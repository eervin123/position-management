{
 "cells": [
  {
   "cell_type": "code",
   "execution_count": 3,
   "metadata": {},
   "outputs": [
    {
     "name": "stderr",
     "output_type": "stream",
     "text": [
      "/Users/ericervin/opt/anaconda3/envs/datascience/lib/python3.10/site-packages/numba/core/decorators.py:262: NumbaDeprecationWarning: \u001b[1mnumba.generated_jit is deprecated. Please see the documentation at: https://numba.readthedocs.io/en/stable/reference/deprecation.html#deprecation-of-generated-jit for more information and advice on a suitable replacement.\u001b[0m\n",
      "  warnings.warn(msg, NumbaDeprecationWarning)\n"
     ]
    }
   ],
   "source": [
    "import pandas as pd\n",
    "import vectorbtpro as vbt\n",
    "from datetime import datetime, timedelta\n",
    "import pytz\n",
    "import numpy as np\n",
    "import pandas_ta as ta\n",
    "import logging\n",
    "from backtesting import Strategy, Backtest\n",
    "from backtesting.lib import resample_apply\n",
    "logging.basicConfig(level=logging.WARNING, format='%(asctime)s %(message)s', datefmt='%m/%d/%Y %I:%M:%S %p')\n",
    "import multiprocessing as mp\n",
    "mp.set_start_method('fork')\n"
   ]
  },
  {
   "cell_type": "code",
   "execution_count": 4,
   "metadata": {},
   "outputs": [],
   "source": [
    "\n",
    "start = \"2018-01-01\"\n",
    "# Enter your parameters here\n",
    "metric = 'total_return'\n",
    "\n",
    "start_date = datetime(2020, 1, 1, tzinfo=pytz.utc)  # time period for analysis, must be timezone-aware\n",
    "end_date = datetime.now(pytz.utc)\n",
    "# end_date = datetime(2020, 1, 1, tzinfo=pytz.utc)\n",
    "\n",
    "# The following is the number of days to look back for the analysis\n",
    "time_buffer = timedelta(days=100)  # buffer before to pre-calculate SMA/EMA, best to set to max window\n",
    "freq = '1h'\n",
    "\n",
    "vbt.settings.portfolio['init_cash'] = 100_000.  # 100,000$\n",
    "# vbt.settings.portfolio['fees'] = 0.0025  # 0.25%\n",
    "# vbt.settings.portfolio['slippage'] = 0.0025  # 0.25%\n",
    "\n",
    "# get binance data doing it this way allows for you to update your data rather than re-downloading it\n",
    "# binance_data = vbt.BinanceData.fetch(symbols,timeframe=freq, start=start_date,end=\"now UTC\")\n",
    "# binance_data.save(\"binance_data.pkl\")\n",
    "\n",
    "# If you already have the data downloaded, you can load it\n",
    "# binance_data = vbt.BinanceData.load(\"binance_data.pkl\")\n",
    "# binance_data = binance_data.update() if you want to update it.\n",
    "futures_path = '/Users/ericervin/Documents/Coding/data-repository/data/BTCUSDT_1m_futures.pkl'\n",
    "# You can grab the necessary file from this google drive link. https://drive.google.com/drive/folders/1jKy2DMbBow-J5jTvPutw-j17m7Ss8R3i?usp=drive_link"
   ]
  },
  {
   "attachments": {},
   "cell_type": "markdown",
   "metadata": {},
   "source": [
    "If you don't have the datafile yet you can grab it from this [link](https://drive.google.com/drive/folders/1jKy2DMbBow-J5jTvPutw-j17m7Ss8R3i?usp=drive_link)"
   ]
  },
  {
   "cell_type": "code",
   "execution_count": 5,
   "metadata": {},
   "outputs": [],
   "source": [
    "btc = vbt.BinanceData.load(futures_path)\n",
    "df = btc.get()"
   ]
  },
  {
   "cell_type": "code",
   "execution_count": 6,
   "metadata": {},
   "outputs": [
    {
     "data": {
      "text/plain": [
       "0"
      ]
     },
     "execution_count": 6,
     "metadata": {},
     "output_type": "execute_result"
    }
   ],
   "source": [
    "# create a signal array the same length as the dataframe\n",
    "signal = np.zeros(len(df))\n",
    "signal = pd.Series(signal, index=df.index)\n",
    "# set the signal to 1 at midnight UTC\n",
    "signal[df.at_time('00:00').index] = 1\n",
    "# Create a -1 right before the signal\n",
    "signal[df.at_time('12:00').index] = -1 # random short signals at noon\n",
    "df['signal'] = signal\n",
    "# Convert to int\n",
    "df['signal'] = df['signal'].astype(int)\n",
    "df['signal'].sum()"
   ]
  },
  {
   "cell_type": "code",
   "execution_count": 28,
   "metadata": {},
   "outputs": [],
   "source": [
    "# This will be handy when we want to plot so it doesn't store all the html files in the root\n",
    "\n",
    "\n",
    "def create_filename(stats_df):\n",
    "    params = stats_df._strategy.__dict__['_params']\n",
    "    filename = 'html_files/'\n",
    "    # unpack the best params and add them to a filename\n",
    "    for key, value in params.items():\n",
    "        # keep the first 5 letters from each key\n",
    "        key = key[:5]\n",
    "        # just keep the first 4 digits from each value\n",
    "        value= str(value)[:4]\n",
    "        filename += f'{key}_{value}_'\n",
    "    filename += '.html'\n",
    "    return filename"
   ]
  },
  {
   "cell_type": "code",
   "execution_count": 31,
   "metadata": {},
   "outputs": [
    {
     "name": "stdout",
     "output_type": "stream",
     "text": [
      "Closing at 37490.0 at 2022-01-21 21:34:00+00:00 Position PNL is -2953368.540000002\n",
      "Closing at 36274.45 at 2022-01-21 21:50:00+00:00 Position PNL is -3222216.520000004\n",
      "Closing at 35032.34 at 2022-01-22 09:41:00+00:00 Position PNL is -3331345.620000003\n",
      "Closing at 33802.27 at 2022-01-24 10:12:00+00:00 Position PNL is -3344295.0500000017\n",
      "Closing at 41054.46 at 2022-02-04 23:46:00+00:00 Position PNL is -4675078.159999998\n",
      "Closing at 42155.0 at 2022-02-06 14:31:00+00:00 Position PNL is -4428986.119999999\n",
      "Closing at 43220.0 at 2022-02-07 14:41:00+00:00 Position PNL is -4048603.7799999993\n",
      "Closing at 44300.47 at 2022-02-07 18:02:00+00:00 Position PNL is -3670584.2800000003\n",
      "Closing at 45456.38 at 2022-02-10 15:41:00+00:00 Position PNL is -3380556.579999998\n",
      "Closing at 36200.0 at 2022-02-24 02:56:00+00:00 Position PNL is -4131866.6999999997\n",
      "Closing at 35073.5 at 2022-02-24 03:40:00+00:00 Position PNL is -4020097.0\n",
      "Closing at 39752.8 at 2022-03-04 19:58:00+00:00 Position PNL is -2095162.9999999956\n",
      "Closing at 44961.2 at 2022-03-25 13:53:00+00:00 Position PNL is -4425904.199999998\n",
      "Closing at 46036.4 at 2022-03-27 20:37:00+00:00 Position PNL is -4163747.2000000034\n",
      "Closing at 47091.1 at 2022-03-28 00:32:00+00:00 Position PNL is -3799677.6\n",
      "Closing at 48092.0 at 2022-03-28 19:20:00+00:00 Position PNL is -3398159.9000000013\n",
      "Closing at 35779.3 at 2022-05-05 19:17:00+00:00 Position PNL is -5067197.699999994\n",
      "Closing at 34724.5 at 2022-05-08 01:51:00+00:00 Position PNL is -4766259.199999999\n",
      "Closing at 33756.2 at 2022-05-08 17:10:00+00:00 Position PNL is -4309837.500000003\n",
      "Closing at 32671.9 at 2022-05-09 10:57:00+00:00 Position PNL is -3999006.7999999975\n",
      "Closing at 31706.3 at 2022-05-09 16:50:00+00:00 Position PNL is -3629817.4\n",
      "Closing at 30731.9 at 2022-05-09 18:33:00+00:00 Position PNL is -3353923.6999999983\n",
      "Closing at 29554.6 at 2022-05-11 12:49:00+00:00 Position PNL is -3331716.9000000013\n",
      "Closing at 28426.8 at 2022-05-11 20:54:00+00:00 Position PNL is -3273478.8\n",
      "Closing at 27244.2 at 2022-05-12 04:24:00+00:00 Position PNL is -3288773.799999999\n",
      "Closing at 31189.0 at 2022-06-07 19:48:00+00:00 Position PNL is -1904211.2999999996\n",
      "Closing at 25618.0 at 2022-06-13 01:56:00+00:00 Position PNL is -4762214.499999998\n",
      "Closing at 24775.6 at 2022-06-13 07:41:00+00:00 Position PNL is -4549654.600000001\n",
      "Closing at 23915.2 at 2022-06-13 09:40:00+00:00 Position PNL is -4290379.199999997\n",
      "Closing at 23079.1 at 2022-06-13 14:42:00+00:00 Position PNL is -4001096.800000001\n",
      "Closing at 22207.3 at 2022-06-13 23:14:00+00:00 Position PNL is -3805885.5\n",
      "Closing at 21218.3 at 2022-06-14 01:27:00+00:00 Position PNL is -3783337.4\n",
      "Closing at 20194.3 at 2022-06-15 08:48:00+00:00 Position PNL is -3803243.3000000003\n",
      "Closing at 20462.3 at 2022-06-16 22:47:00+00:00 Position PNL is -2837501.8000000007\n",
      "Closing at 19371.6 at 2022-06-18 06:53:00+00:00 Position PNL is -3490117.8000000017\n",
      "Closing at 18310.5 at 2022-06-18 18:22:00+00:00 Position PNL is -3838415.099999999\n",
      "Closing at 21290.3 at 2022-07-07 18:41:00+00:00 Position PNL is -3912975.5999999973\n",
      "Closing at 22295.8 at 2022-07-08 01:27:00+00:00 Position PNL is -4470236.799999998\n",
      "Closing at 23244.1 at 2022-07-19 16:05:00+00:00 Position PNL is -4370776.799999998\n",
      "Closing at 23936.3 at 2022-07-20 13:35:00+00:00 Position PNL is -4250941.600000001\n",
      "Closing at 21474.9 at 2022-08-19 06:38:00+00:00 Position PNL is -2486443.4999999977\n",
      "Closing at 20895.9 at 2022-08-19 21:56:00+00:00 Position PNL is -2566699.9999999986\n",
      "Closing at 20375.1 at 2022-08-26 23:12:00+00:00 Position PNL is -2501201.500000003\n",
      "Closing at 19837.9 at 2022-08-27 15:40:00+00:00 Position PNL is -2454672.499999998\n",
      "Closing at 19308.1 at 2022-09-06 17:05:00+00:00 Position PNL is -2403254.500000003\n",
      "Closing at 18817.9 at 2022-09-06 19:30:00+00:00 Position PNL is -2314635.799999998\n",
      "Closing at 19925.1 at 2022-10-14 01:55:00+00:00 Position PNL is -2294475.1999999993\n",
      "Closing at 18954.1 at 2022-11-08 18:06:00+00:00 Position PNL is -5067696.400000007\n",
      "Closing at 18514.6 at 2022-11-08 18:20:00+00:00 Position PNL is -4600665.600000004\n",
      "Closing at 18045.7 at 2022-11-08 19:23:00+00:00 Position PNL is -4173587.399999998\n",
      "Closing at 17679.0 at 2022-11-08 19:29:00+00:00 Position PNL is -3589697.100000001\n",
      "Closing at 17331.1 at 2022-11-08 19:31:00+00:00 Position PNL is -3102281.500000003\n",
      "Closing at 16875.8 at 2022-11-08 19:32:00+00:00 Position PNL is -2911399.4000000013\n",
      "Closing at 17075.2 at 2022-11-09 15:36:00+00:00 Position PNL is -2907920.6999999965\n",
      "Closing at 16609.3 at 2022-11-09 18:36:00+00:00 Position PNL is -2972825.0000000005\n",
      "Closing at 16152.0 at 2022-11-09 20:49:00+00:00 Position PNL is -2918528.099999999\n",
      "Closing at 15688.5 at 2022-11-09 21:52:00+00:00 Position PNL is -2845203.5999999996\n",
      "Closing at 15814.8 at 2022-11-21 19:28:00+00:00 Position PNL is -3540833.0000000037\n",
      "Closing at 18707.6 at 2023-01-12 17:37:00+00:00 Position PNL is -6011513.599999995\n",
      "Closing at 18894.6 at 2023-01-12 17:39:00+00:00 Position PNL is -4766170.899999997\n",
      "Closing at 19109.8 at 2023-01-13 15:09:00+00:00 Position PNL is -3850970.399999999\n",
      "Closing at 19357.5 at 2023-01-13 17:22:00+00:00 Position PNL is -3188465.0000000005\n",
      "Closing at 19600.4 at 2023-01-13 21:37:00+00:00 Position PNL is -2651203.5000000033\n",
      "Closing at 19875.8 at 2023-01-13 21:38:00+00:00 Position PNL is -2286396.0999999987\n",
      "Closing at 21010.0 at 2023-01-14 00:38:00+00:00 Position PNL is -3692258.400000001\n",
      "Closing at 21329.6 at 2023-01-14 00:40:00+00:00 Position PNL is -3133533.099999998\n",
      "Closing at 21930.2 at 2023-01-20 20:05:00+00:00 Position PNL is -3097002.200000002\n",
      "Closing at 22345.6 at 2023-01-20 20:54:00+00:00 Position PNL is -2734494.199999999\n",
      "Closing at 22689.6 at 2023-01-20 22:38:00+00:00 Position PNL is -2347144.899999999\n",
      "Closing at 23064.4 at 2023-01-21 10:01:00+00:00 Position PNL is -2080953.900000003\n",
      "Closing at 23433.1 at 2023-01-25 21:54:00+00:00 Position PNL is -1865245.7999999989\n",
      "Closing at 24207.5 at 2023-02-02 00:44:00+00:00 Position PNL is -2227836.1000000006\n",
      "Closing at 21425.7 at 2023-03-09 17:45:00+00:00 Position PNL is -4555251.599999999\n",
      "Closing at 20981.1 at 2023-03-09 18:33:00+00:00 Position PNL is -3977772.700000003\n",
      "Closing at 20565.0 at 2023-03-09 20:21:00+00:00 Position PNL is -3421724.3000000003\n",
      "Closing at 20098.0 at 2023-03-09 20:59:00+00:00 Position PNL is -3040613.1000000006\n",
      "Closing at 19637.2 at 2023-03-10 10:47:00+00:00 Position PNL is -2737215.799999999\n",
      "Start                     2022-01-01 00:00...\n",
      "End                       2023-06-03 23:12...\n",
      "Duration                    518 days 23:12:00\n",
      "Exposure Time [%]                   91.453648\n",
      "Equity Final [$]                  111616681.5\n",
      "Equity Peak [$]                   111841269.5\n",
      "Return [%]                          11.616682\n",
      "Buy & Hold Return [%]              -41.491126\n",
      "Return (Ann.) [%]                    8.035556\n",
      "Volatility (Ann.) [%]               23.318242\n",
      "Sharpe Ratio                         0.344604\n",
      "Sortino Ratio                        0.490093\n",
      "Calmar Ratio                         0.388506\n",
      "Max. Drawdown [%]                  -20.683231\n",
      "Avg. Drawdown [%]                   -0.421241\n",
      "Max. Drawdown Duration      406 days 05:49:00\n",
      "Avg. Drawdown Duration        3 days 01:40:00\n",
      "# Trades                                  898\n",
      "Win Rate [%]                        23.385301\n",
      "Best Trade [%]                      12.810546\n",
      "Worst Trade [%]                    -43.835413\n",
      "Avg. Trade [%]                      -9.242257\n",
      "Max. Trade Duration          36 days 07:24:00\n",
      "Avg. Trade Duration           5 days 23:03:00\n",
      "Profit Factor                        0.103277\n",
      "Expectancy [%]                      -8.604087\n",
      "SQN                                  1.062096\n",
      "Kelly Criterion                      0.026457\n",
      "_strategy                 LONG_SHORT_Under...\n",
      "_equity_curve                             ...\n",
      "_trades                          Size  Ent...\n",
      "dtype: object\n"
     ]
    },
    {
     "data": {
      "text/html": [
       "<div style=\"display: table;\"><div style=\"display: table-row;\"><div style=\"display: table-cell;\"><b title=\"bokeh.models.plots.GridPlot\">GridPlot</b>(</div><div style=\"display: table-cell;\">id&nbsp;=&nbsp;'p19341', <span id=\"p20017\" style=\"cursor: pointer;\">&hellip;)</span></div></div><div class=\"p20016\" style=\"display: none;\"><div style=\"display: table-cell;\"></div><div style=\"display: table-cell;\">align&nbsp;=&nbsp;'auto',</div></div><div class=\"p20016\" style=\"display: none;\"><div style=\"display: table-cell;\"></div><div style=\"display: table-cell;\">aspect_ratio&nbsp;=&nbsp;None,</div></div><div class=\"p20016\" style=\"display: none;\"><div style=\"display: table-cell;\"></div><div style=\"display: table-cell;\">children&nbsp;=&nbsp;[(figure(id='p18681', ...), 0, 0), (figure(id='p18794', ...), 1, 0), (figure(id='p18622', ...), 2, 0), (figure(id='p18866', ...), 3, 0), (figure(id='p18978', ...), 4, 0), (figure(id='p19039', ...), 5, 0), (figure(id='p19099', ...), 6, 0)],</div></div><div class=\"p20016\" style=\"display: none;\"><div style=\"display: table-cell;\"></div><div style=\"display: table-cell;\">cols&nbsp;=&nbsp;None,</div></div><div class=\"p20016\" style=\"display: none;\"><div style=\"display: table-cell;\"></div><div style=\"display: table-cell;\">context_menu&nbsp;=&nbsp;None,</div></div><div class=\"p20016\" style=\"display: none;\"><div style=\"display: table-cell;\"></div><div style=\"display: table-cell;\">css_classes&nbsp;=&nbsp;[],</div></div><div class=\"p20016\" style=\"display: none;\"><div style=\"display: table-cell;\"></div><div style=\"display: table-cell;\">disabled&nbsp;=&nbsp;False,</div></div><div class=\"p20016\" style=\"display: none;\"><div style=\"display: table-cell;\"></div><div style=\"display: table-cell;\">flow_mode&nbsp;=&nbsp;'block',</div></div><div class=\"p20016\" style=\"display: none;\"><div style=\"display: table-cell;\"></div><div style=\"display: table-cell;\">height&nbsp;=&nbsp;None,</div></div><div class=\"p20016\" style=\"display: none;\"><div style=\"display: table-cell;\"></div><div style=\"display: table-cell;\">height_policy&nbsp;=&nbsp;'auto',</div></div><div class=\"p20016\" style=\"display: none;\"><div style=\"display: table-cell;\"></div><div style=\"display: table-cell;\">js_event_callbacks&nbsp;=&nbsp;{},</div></div><div class=\"p20016\" style=\"display: none;\"><div style=\"display: table-cell;\"></div><div style=\"display: table-cell;\">js_property_callbacks&nbsp;=&nbsp;{},</div></div><div class=\"p20016\" style=\"display: none;\"><div style=\"display: table-cell;\"></div><div style=\"display: table-cell;\">margin&nbsp;=&nbsp;None,</div></div><div class=\"p20016\" style=\"display: none;\"><div style=\"display: table-cell;\"></div><div style=\"display: table-cell;\">max_height&nbsp;=&nbsp;None,</div></div><div class=\"p20016\" style=\"display: none;\"><div style=\"display: table-cell;\"></div><div style=\"display: table-cell;\">max_width&nbsp;=&nbsp;None,</div></div><div class=\"p20016\" style=\"display: none;\"><div style=\"display: table-cell;\"></div><div style=\"display: table-cell;\">min_height&nbsp;=&nbsp;None,</div></div><div class=\"p20016\" style=\"display: none;\"><div style=\"display: table-cell;\"></div><div style=\"display: table-cell;\">min_width&nbsp;=&nbsp;None,</div></div><div class=\"p20016\" style=\"display: none;\"><div style=\"display: table-cell;\"></div><div style=\"display: table-cell;\">name&nbsp;=&nbsp;None,</div></div><div class=\"p20016\" style=\"display: none;\"><div style=\"display: table-cell;\"></div><div style=\"display: table-cell;\">resizable&nbsp;=&nbsp;False,</div></div><div class=\"p20016\" style=\"display: none;\"><div style=\"display: table-cell;\"></div><div style=\"display: table-cell;\">rows&nbsp;=&nbsp;None,</div></div><div class=\"p20016\" style=\"display: none;\"><div style=\"display: table-cell;\"></div><div style=\"display: table-cell;\">sizing_mode&nbsp;=&nbsp;'stretch_width',</div></div><div class=\"p20016\" style=\"display: none;\"><div style=\"display: table-cell;\"></div><div style=\"display: table-cell;\">spacing&nbsp;=&nbsp;0,</div></div><div class=\"p20016\" style=\"display: none;\"><div style=\"display: table-cell;\"></div><div style=\"display: table-cell;\">styles&nbsp;=&nbsp;{},</div></div><div class=\"p20016\" style=\"display: none;\"><div style=\"display: table-cell;\"></div><div style=\"display: table-cell;\">stylesheets&nbsp;=&nbsp;[],</div></div><div class=\"p20016\" style=\"display: none;\"><div style=\"display: table-cell;\"></div><div style=\"display: table-cell;\">subscribed_events&nbsp;=&nbsp;PropertyValueSet(),</div></div><div class=\"p20016\" style=\"display: none;\"><div style=\"display: table-cell;\"></div><div style=\"display: table-cell;\">syncable&nbsp;=&nbsp;True,</div></div><div class=\"p20016\" style=\"display: none;\"><div style=\"display: table-cell;\"></div><div style=\"display: table-cell;\">tags&nbsp;=&nbsp;[],</div></div><div class=\"p20016\" style=\"display: none;\"><div style=\"display: table-cell;\"></div><div style=\"display: table-cell;\">toolbar&nbsp;=&nbsp;Toolbar(id='p19340', ...),</div></div><div class=\"p20016\" style=\"display: none;\"><div style=\"display: table-cell;\"></div><div style=\"display: table-cell;\">toolbar_location&nbsp;=&nbsp;'right',</div></div><div class=\"p20016\" style=\"display: none;\"><div style=\"display: table-cell;\"></div><div style=\"display: table-cell;\">visible&nbsp;=&nbsp;True,</div></div><div class=\"p20016\" style=\"display: none;\"><div style=\"display: table-cell;\"></div><div style=\"display: table-cell;\">width&nbsp;=&nbsp;None,</div></div><div class=\"p20016\" style=\"display: none;\"><div style=\"display: table-cell;\"></div><div style=\"display: table-cell;\">width_policy&nbsp;=&nbsp;'auto')</div></div></div>\n",
       "<script>\n",
       "(function() {\n",
       "  let expanded = false;\n",
       "  const ellipsis = document.getElementById(\"p20017\");\n",
       "  ellipsis.addEventListener(\"click\", function() {\n",
       "    const rows = document.getElementsByClassName(\"p20016\");\n",
       "    for (let i = 0; i < rows.length; i++) {\n",
       "      const el = rows[i];\n",
       "      el.style.display = expanded ? \"none\" : \"table-row\";\n",
       "    }\n",
       "    ellipsis.innerHTML = expanded ? \"&hellip;)\" : \"&lsaquo;&lsaquo;&lsaquo;\";\n",
       "    expanded = !expanded;\n",
       "  });\n",
       "})();\n",
       "</script>\n"
      ],
      "text/plain": [
       "GridPlot(id='p19341', ...)"
      ]
     },
     "execution_count": 31,
     "metadata": {},
     "output_type": "execute_result"
    }
   ],
   "source": [
    "class LONG_SHORT_Underwater_w_decay_and_deleverage(Strategy):\n",
    "    # All of the following variables can be used during optimization\n",
    "    initial_position_size = 0.3\n",
    "    percent_invested_threshold = 0.3\n",
    "    atr_length = 14  # 14 days\n",
    "    atr_multiplier = 0.5\n",
    "    add_size = 0.1\n",
    "    delay_period = 1000\n",
    "    delta_time = 1000\n",
    "    upper_bound_profit_target = 0.05\n",
    "    lower_bound_loss_threshold = 0.02\n",
    "    take_profit_loss_reduction = -0.1 # amount take profit is reduced by if the position is highly leveraged and we wish to trim\n",
    "    deleverage_pct = 0.30  # This is the amount that the position is reduced by if the position is highly leveraged and we wish to trim\n",
    "    bounce_multiplier = 1.5  # multiply the ATR Treshold by this amount to get the bounce threshold we are looking to bounce off a low \"max pain\" point before we reduce our position\n",
    "    max_loss_threshold = -0.05 # if the position is down this much, and we are fully invested we will reduce our positio\n",
    "    max_hold_length = None # Number of minutes to hold a position before closing it None if you want to exit naturally\n",
    "    \n",
    "    def SIGNAL(self):\n",
    "        return self.data.signal\n",
    "\n",
    "    def ATR(self, df, length):\n",
    "        return df.ta.atr(length=length)\n",
    "\n",
    "    def bars_since_first_trade(self, use_for_indexing=False):\n",
    "        \"\"\"\n",
    "        Calculate the number of bars since the first trade was entered.\n",
    "        If use for indexing is true then it will return 1 if there are no trades.\n",
    "        This way you can retrieve the last element of a list by applying a - to the return value.\n",
    "        eg. self.equity[-self.bars_since_first_trade(use_for_indexing=True):] gives you the array of your account's equity since you entered the first trade that is currently open\n",
    "        \"\"\"\n",
    "        if len(self.trades) > 0:\n",
    "            self.first_trade_entry_bar = self.trades[0].entry_bar\n",
    "            bars_since_first_trade = len(self.data.Close) - self.first_trade_entry_bar\n",
    "            return bars_since_first_trade\n",
    "        elif use_for_indexing:\n",
    "            return 1\n",
    "        else:\n",
    "            return 0\n",
    "\n",
    "    def custom_decay_func(\n",
    "        self,\n",
    "        x,\n",
    "        delay_period,\n",
    "        upper_bound_profit_target,\n",
    "        lower_bound_loss_threshold,\n",
    "        delta_time,\n",
    "    ):\n",
    "        \"\"\"\n",
    "        This function is used to calculate the decayed take profit x represents the number of bars since the first trade was entered\n",
    "        x is the number of bars since the first trade was entered\n",
    "        delay_period is the number of bars to wait before starting to decay\n",
    "        upper_bound_profit_target is the upper bound of the take profit\n",
    "        lower_bound_loss_threshold is the lower bound of the take profit\n",
    "        delta_time is the number of bars over which to transition from the upper bound to the lower bound\n",
    "        \"\"\"\n",
    "        if x <= delay_period:\n",
    "            return upper_bound_profit_target\n",
    "        elif delay_period < x < delay_period + delta_time:\n",
    "            # Calculate the x value for the cos function\n",
    "            transition_x = (x - delay_period) / delta_time * np.pi\n",
    "            # Calculate the decayed take profit\n",
    "            return (-np.cos(transition_x) + 1) / 2 * (\n",
    "                lower_bound_loss_threshold - upper_bound_profit_target\n",
    "            ) + upper_bound_profit_target\n",
    "        else:\n",
    "            return lower_bound_loss_threshold\n",
    "\n",
    "    def init(self):\n",
    "        super().init()\n",
    "        self.signal = self.I(self.SIGNAL)\n",
    "        self.atr = self.I(self.ATR, self.data.df, self.atr_length)\n",
    "        self.daily_atr = resample_apply(\"1D\", self.ATR, self.data.df, length=14)\n",
    "        count_NaN = len(self.atr) - len(\n",
    "            pd.Series(self.atr).dropna()\n",
    "        )  # This is used for the progress bar\n",
    "        self.length_of_data = (\n",
    "            len(self.data.Close) - count_NaN\n",
    "        )  # This is used for the progress bar\n",
    "        self.equity_during_trade = []  # Keeps a list for the equity during the trade\n",
    "        self.long_short_flag = (\n",
    "            None  # This is used to keep track of whether we are long or short\n",
    "        )\n",
    "        self.price_at_last_trim = (\n",
    "            0  # This is used to keep track of the price at the last trim\n",
    "        )\n",
    "\n",
    "    def next(self):\n",
    "        super().next()\n",
    "\n",
    "        price = self.data.Close[-1]\n",
    "        position_value = self.position.size * price\n",
    "        percent_invested = (\n",
    "            position_value / self.equity\n",
    "        )  # this will come in handy if we decide to change behavior once XX% is invested\n",
    "        atr_threshold_pct = (\n",
    "            self.atr_multiplier * self.daily_atr[-1] / price\n",
    "        )  # This is the ATR threshold times a multiplier calculated as a percentage of price\n",
    "        bars_since_trade_open = self.bars_since_first_trade(use_for_indexing=True)\n",
    "        highly_leveraged = abs(percent_invested) > self.percent_invested_threshold\n",
    "        # Calculate the decayed take profit\n",
    "        decayed_take_profit = self.custom_decay_func(\n",
    "            bars_since_trade_open,\n",
    "            self.delay_period,\n",
    "            self.upper_bound_profit_target,\n",
    "            self.lower_bound_loss_threshold,\n",
    "            self.delta_time,\n",
    "        )\n",
    "\n",
    "        # Calculate the lowest the equity ever got since we have been in a trade\n",
    "        if self.position:  \n",
    "            self.lowest_equity_during_trade = min(self.lowest_equity_during_trade, self.equity)\n",
    "        else:\n",
    "            self.lowest_equity_during_trade = float('inf')  # Reset to a very high number when not in a position\n",
    "\n",
    "        low_point_in_trade = min(self.equity_during_trade, default=0)\n",
    "\n",
    "        # Calculate the percentage bounce from the low point in the trade this is based on equity so works for long or short\n",
    "        bounce_from_low_pct = (lambda x: (self.equity - x) / x if x != 0 else 0)(\n",
    "            low_point_in_trade\n",
    "        )  # The lambda function is used to avoid a divide by zero error\n",
    "\n",
    "        # Opening a Trade on a signal from the LSTM\n",
    "        if not self.position:\n",
    "            if self.signal == 1:\n",
    "                self.buy(size=self.initial_position_size)\n",
    "                self.long_short_flag = 1\n",
    "            elif self.signal == -1:\n",
    "                self.sell(size=self.initial_position_size)\n",
    "                self.long_short_flag = -1\n",
    "        \n",
    "        # If we are in a short trade and the account is fully invested and the loss is greater than the max loss threshold then close the trade\n",
    "        if self.long_short_flag == -1 and (abs(percent_invested) > 1 and self.position.pl_pct < self.max_loss_threshold):\n",
    "            self.position.close() # If you want a partial close add `portion=self.deleverage_pct`\n",
    "        \n",
    "        # If we are in a trade and it meets our profit criteria then close the trade\n",
    "        if self.position.pl_pct > decayed_take_profit:\n",
    "            self.position.close()\n",
    "            self.price_at_last_trim = 0\n",
    "            # print(f'Closing at {price} at {self.data.index[-1]} Position PNL is {self.position.pl}')\n",
    "\n",
    "        # If we are in a trade and it meets our loss criteria then close a portion of the trade on a bounce from the low point\n",
    "        if self.position and self.position.pl_pct < -atr_threshold_pct:\n",
    "            # Check to see if we are also down on our last trade\n",
    "            if self.trades[-1].pl_pct < -atr_threshold_pct:\n",
    "                if self.long_short_flag == 1:\n",
    "                    self.buy(size=self.add_size)\n",
    "                elif self.long_short_flag == -1:\n",
    "                    self.sell(size=self.add_size)\n",
    "        \n",
    "        # If we are totally upside down then reduce the position size\n",
    "        if self.position and self.position.pl_pct < decayed_take_profit + self.take_profit_loss_reduction:\n",
    "            if self.trades[-1].pl_pct < -atr_threshold_pct: # if we are down more than 1 ATR threshold then reduce the position size and take a tiny loss\n",
    "                self.position.close(portion=self.deleverage_pct)\n",
    "                print(f'Closing at {price} at {self.data.index[-1]} Position PNL is {self.position.pl}')\n",
    "        \n",
    "        # Deleverage if we are over a certain percent invested and the market is recovering from the low point\n",
    "        if (\n",
    "            highly_leveraged\n",
    "            and bounce_from_low_pct > self.bounce_multiplier * atr_threshold_pct\n",
    "        ):\n",
    "\n",
    "            if (self.position.pl_pct > decayed_take_profit + self.take_profit_loss_reduction):\n",
    "                if (self.long_short_flag == 1) and (self.price_at_last_trim == 0 or price > self.price_at_last_trim *(1 + 2 * atr_threshold_pct)):\n",
    "                    self.position.close(portion=self.deleverage_pct)\n",
    "                    # Keep track of the price to avoid trimming too often\n",
    "                    self.price_at_last_trim = price \n",
    "                    # print(f'Deleveraging at {price} at {self.data.index[-1]} Position PNL is {self.position.pl}')\n",
    "                elif (self.long_short_flag) == -1 and (self.price_at_last_trim == 0 or price < self.price_at_last_trim *(1 - 0.5 * atr_threshold_pct)):\n",
    "                    self.position.close(portion=self.deleverage_pct)\n",
    "                    # Keep track of the price to avoid trimming too often\n",
    "                    self.price_at_last_trim = price \n",
    "                    # print(f'Deleveraging at {price} at {self.data.index[-1]} Position PNL is {self.position.pl}')\n",
    "\n",
    "\n",
    "\n",
    "start = \"2022-01-01\"  # Note the strategy requires a warmup period for the ATR to calculate first trades begin after 14 days\n",
    "end = \"2023-06-03\"  # It will always close any open trades at the end of the backtest\n",
    "bt = Backtest(\n",
    "    df.loc[start:end],\n",
    "    LONG_SHORT_Underwater_w_decay_and_deleverage,\n",
    "    cash=100_000_000,\n",
    "    exclusive_orders=False,\n",
    "    trade_on_close=True,\n",
    "    margin=1,\n",
    ")\n",
    "stats = bt.run()\n",
    "filename = create_filename(stats)\n",
    "print(stats)\n",
    "bt.plot(resample=False, filename=filename)"
   ]
  },
  {
   "cell_type": "code",
   "execution_count": 29,
   "metadata": {},
   "outputs": [],
   "source": [
    "filename = create_filename(stats)"
   ]
  },
  {
   "cell_type": "code",
   "execution_count": 30,
   "metadata": {},
   "outputs": [
    {
     "name": "stdout",
     "output_type": "stream",
     "text": [
      "Start                     2022-01-01 00:00...\n",
      "End                       2023-06-03 23:12...\n",
      "Duration                    518 days 23:12:00\n",
      "Exposure Time [%]                   91.453648\n",
      "Equity Final [$]                  111616681.5\n",
      "Equity Peak [$]                   111841269.5\n",
      "Return [%]                          11.616682\n",
      "Buy & Hold Return [%]              -41.491126\n",
      "Return (Ann.) [%]                    8.035556\n",
      "Volatility (Ann.) [%]               23.318242\n",
      "Sharpe Ratio                         0.344604\n",
      "Sortino Ratio                        0.490093\n",
      "Calmar Ratio                         0.388506\n",
      "Max. Drawdown [%]                  -20.683231\n",
      "Avg. Drawdown [%]                   -0.421241\n",
      "Max. Drawdown Duration      406 days 05:49:00\n",
      "Avg. Drawdown Duration        3 days 01:40:00\n",
      "# Trades                                  898\n",
      "Win Rate [%]                        23.385301\n",
      "Best Trade [%]                      12.810546\n",
      "Worst Trade [%]                    -43.835413\n",
      "Avg. Trade [%]                      -9.242257\n",
      "Max. Trade Duration          36 days 07:24:00\n",
      "Avg. Trade Duration           5 days 23:03:00\n",
      "Profit Factor                        0.103277\n",
      "Expectancy [%]                      -8.604087\n",
      "SQN                                  1.062096\n",
      "Kelly Criterion                      0.026457\n",
      "_strategy                 LONG_SHORT_Under...\n",
      "_equity_curve                             ...\n",
      "_trades                          Size  Ent...\n",
      "dtype: object\n"
     ]
    },
    {
     "data": {
      "text/html": [
       "<div style=\"display: table;\"><div style=\"display: table-row;\"><div style=\"display: table-cell;\"><b title=\"bokeh.models.plots.GridPlot\">GridPlot</b>(</div><div style=\"display: table-cell;\">id&nbsp;=&nbsp;'p17944', <span id=\"p18620\" style=\"cursor: pointer;\">&hellip;)</span></div></div><div class=\"p18619\" style=\"display: none;\"><div style=\"display: table-cell;\"></div><div style=\"display: table-cell;\">align&nbsp;=&nbsp;'auto',</div></div><div class=\"p18619\" style=\"display: none;\"><div style=\"display: table-cell;\"></div><div style=\"display: table-cell;\">aspect_ratio&nbsp;=&nbsp;None,</div></div><div class=\"p18619\" style=\"display: none;\"><div style=\"display: table-cell;\"></div><div style=\"display: table-cell;\">children&nbsp;=&nbsp;[(figure(id='p17284', ...), 0, 0), (figure(id='p17397', ...), 1, 0), (figure(id='p17225', ...), 2, 0), (figure(id='p17469', ...), 3, 0), (figure(id='p17581', ...), 4, 0), (figure(id='p17642', ...), 5, 0), (figure(id='p17702', ...), 6, 0)],</div></div><div class=\"p18619\" style=\"display: none;\"><div style=\"display: table-cell;\"></div><div style=\"display: table-cell;\">cols&nbsp;=&nbsp;None,</div></div><div class=\"p18619\" style=\"display: none;\"><div style=\"display: table-cell;\"></div><div style=\"display: table-cell;\">context_menu&nbsp;=&nbsp;None,</div></div><div class=\"p18619\" style=\"display: none;\"><div style=\"display: table-cell;\"></div><div style=\"display: table-cell;\">css_classes&nbsp;=&nbsp;[],</div></div><div class=\"p18619\" style=\"display: none;\"><div style=\"display: table-cell;\"></div><div style=\"display: table-cell;\">disabled&nbsp;=&nbsp;False,</div></div><div class=\"p18619\" style=\"display: none;\"><div style=\"display: table-cell;\"></div><div style=\"display: table-cell;\">flow_mode&nbsp;=&nbsp;'block',</div></div><div class=\"p18619\" style=\"display: none;\"><div style=\"display: table-cell;\"></div><div style=\"display: table-cell;\">height&nbsp;=&nbsp;None,</div></div><div class=\"p18619\" style=\"display: none;\"><div style=\"display: table-cell;\"></div><div style=\"display: table-cell;\">height_policy&nbsp;=&nbsp;'auto',</div></div><div class=\"p18619\" style=\"display: none;\"><div style=\"display: table-cell;\"></div><div style=\"display: table-cell;\">js_event_callbacks&nbsp;=&nbsp;{},</div></div><div class=\"p18619\" style=\"display: none;\"><div style=\"display: table-cell;\"></div><div style=\"display: table-cell;\">js_property_callbacks&nbsp;=&nbsp;{},</div></div><div class=\"p18619\" style=\"display: none;\"><div style=\"display: table-cell;\"></div><div style=\"display: table-cell;\">margin&nbsp;=&nbsp;None,</div></div><div class=\"p18619\" style=\"display: none;\"><div style=\"display: table-cell;\"></div><div style=\"display: table-cell;\">max_height&nbsp;=&nbsp;None,</div></div><div class=\"p18619\" style=\"display: none;\"><div style=\"display: table-cell;\"></div><div style=\"display: table-cell;\">max_width&nbsp;=&nbsp;None,</div></div><div class=\"p18619\" style=\"display: none;\"><div style=\"display: table-cell;\"></div><div style=\"display: table-cell;\">min_height&nbsp;=&nbsp;None,</div></div><div class=\"p18619\" style=\"display: none;\"><div style=\"display: table-cell;\"></div><div style=\"display: table-cell;\">min_width&nbsp;=&nbsp;None,</div></div><div class=\"p18619\" style=\"display: none;\"><div style=\"display: table-cell;\"></div><div style=\"display: table-cell;\">name&nbsp;=&nbsp;None,</div></div><div class=\"p18619\" style=\"display: none;\"><div style=\"display: table-cell;\"></div><div style=\"display: table-cell;\">resizable&nbsp;=&nbsp;False,</div></div><div class=\"p18619\" style=\"display: none;\"><div style=\"display: table-cell;\"></div><div style=\"display: table-cell;\">rows&nbsp;=&nbsp;None,</div></div><div class=\"p18619\" style=\"display: none;\"><div style=\"display: table-cell;\"></div><div style=\"display: table-cell;\">sizing_mode&nbsp;=&nbsp;'stretch_width',</div></div><div class=\"p18619\" style=\"display: none;\"><div style=\"display: table-cell;\"></div><div style=\"display: table-cell;\">spacing&nbsp;=&nbsp;0,</div></div><div class=\"p18619\" style=\"display: none;\"><div style=\"display: table-cell;\"></div><div style=\"display: table-cell;\">styles&nbsp;=&nbsp;{},</div></div><div class=\"p18619\" style=\"display: none;\"><div style=\"display: table-cell;\"></div><div style=\"display: table-cell;\">stylesheets&nbsp;=&nbsp;[],</div></div><div class=\"p18619\" style=\"display: none;\"><div style=\"display: table-cell;\"></div><div style=\"display: table-cell;\">subscribed_events&nbsp;=&nbsp;PropertyValueSet(),</div></div><div class=\"p18619\" style=\"display: none;\"><div style=\"display: table-cell;\"></div><div style=\"display: table-cell;\">syncable&nbsp;=&nbsp;True,</div></div><div class=\"p18619\" style=\"display: none;\"><div style=\"display: table-cell;\"></div><div style=\"display: table-cell;\">tags&nbsp;=&nbsp;[],</div></div><div class=\"p18619\" style=\"display: none;\"><div style=\"display: table-cell;\"></div><div style=\"display: table-cell;\">toolbar&nbsp;=&nbsp;Toolbar(id='p17943', ...),</div></div><div class=\"p18619\" style=\"display: none;\"><div style=\"display: table-cell;\"></div><div style=\"display: table-cell;\">toolbar_location&nbsp;=&nbsp;'right',</div></div><div class=\"p18619\" style=\"display: none;\"><div style=\"display: table-cell;\"></div><div style=\"display: table-cell;\">visible&nbsp;=&nbsp;True,</div></div><div class=\"p18619\" style=\"display: none;\"><div style=\"display: table-cell;\"></div><div style=\"display: table-cell;\">width&nbsp;=&nbsp;None,</div></div><div class=\"p18619\" style=\"display: none;\"><div style=\"display: table-cell;\"></div><div style=\"display: table-cell;\">width_policy&nbsp;=&nbsp;'auto')</div></div></div>\n",
       "<script>\n",
       "(function() {\n",
       "  let expanded = false;\n",
       "  const ellipsis = document.getElementById(\"p18620\");\n",
       "  ellipsis.addEventListener(\"click\", function() {\n",
       "    const rows = document.getElementsByClassName(\"p18619\");\n",
       "    for (let i = 0; i < rows.length; i++) {\n",
       "      const el = rows[i];\n",
       "      el.style.display = expanded ? \"none\" : \"table-row\";\n",
       "    }\n",
       "    ellipsis.innerHTML = expanded ? \"&hellip;)\" : \"&lsaquo;&lsaquo;&lsaquo;\";\n",
       "    expanded = !expanded;\n",
       "  });\n",
       "})();\n",
       "</script>\n"
      ],
      "text/plain": [
       "GridPlot(id='p17944', ...)"
      ]
     },
     "execution_count": 30,
     "metadata": {},
     "output_type": "execute_result"
    }
   ],
   "source": [
    "stats\n",
    "print(stats)\n",
    "bt.plot(resample=False, filename=filename)"
   ]
  },
  {
   "cell_type": "code",
   "execution_count": 8,
   "metadata": {},
   "outputs": [
    {
     "data": {
      "text/html": [
       "<div style=\"display: table;\"><div style=\"display: table-row;\"><div style=\"display: table-cell;\"><b title=\"bokeh.models.plots.GridPlot\">GridPlot</b>(</div><div style=\"display: table-cell;\">id&nbsp;=&nbsp;'p3118', <span id=\"p3794\" style=\"cursor: pointer;\">&hellip;)</span></div></div><div class=\"p3793\" style=\"display: none;\"><div style=\"display: table-cell;\"></div><div style=\"display: table-cell;\">align&nbsp;=&nbsp;'auto',</div></div><div class=\"p3793\" style=\"display: none;\"><div style=\"display: table-cell;\"></div><div style=\"display: table-cell;\">aspect_ratio&nbsp;=&nbsp;None,</div></div><div class=\"p3793\" style=\"display: none;\"><div style=\"display: table-cell;\"></div><div style=\"display: table-cell;\">children&nbsp;=&nbsp;[(figure(id='p2458', ...), 0, 0), (figure(id='p2571', ...), 1, 0), (figure(id='p2399', ...), 2, 0), (figure(id='p2643', ...), 3, 0), (figure(id='p2755', ...), 4, 0), (figure(id='p2816', ...), 5, 0), (figure(id='p2876', ...), 6, 0)],</div></div><div class=\"p3793\" style=\"display: none;\"><div style=\"display: table-cell;\"></div><div style=\"display: table-cell;\">cols&nbsp;=&nbsp;None,</div></div><div class=\"p3793\" style=\"display: none;\"><div style=\"display: table-cell;\"></div><div style=\"display: table-cell;\">context_menu&nbsp;=&nbsp;None,</div></div><div class=\"p3793\" style=\"display: none;\"><div style=\"display: table-cell;\"></div><div style=\"display: table-cell;\">css_classes&nbsp;=&nbsp;[],</div></div><div class=\"p3793\" style=\"display: none;\"><div style=\"display: table-cell;\"></div><div style=\"display: table-cell;\">disabled&nbsp;=&nbsp;False,</div></div><div class=\"p3793\" style=\"display: none;\"><div style=\"display: table-cell;\"></div><div style=\"display: table-cell;\">flow_mode&nbsp;=&nbsp;'block',</div></div><div class=\"p3793\" style=\"display: none;\"><div style=\"display: table-cell;\"></div><div style=\"display: table-cell;\">height&nbsp;=&nbsp;None,</div></div><div class=\"p3793\" style=\"display: none;\"><div style=\"display: table-cell;\"></div><div style=\"display: table-cell;\">height_policy&nbsp;=&nbsp;'auto',</div></div><div class=\"p3793\" style=\"display: none;\"><div style=\"display: table-cell;\"></div><div style=\"display: table-cell;\">js_event_callbacks&nbsp;=&nbsp;{},</div></div><div class=\"p3793\" style=\"display: none;\"><div style=\"display: table-cell;\"></div><div style=\"display: table-cell;\">js_property_callbacks&nbsp;=&nbsp;{},</div></div><div class=\"p3793\" style=\"display: none;\"><div style=\"display: table-cell;\"></div><div style=\"display: table-cell;\">margin&nbsp;=&nbsp;None,</div></div><div class=\"p3793\" style=\"display: none;\"><div style=\"display: table-cell;\"></div><div style=\"display: table-cell;\">max_height&nbsp;=&nbsp;None,</div></div><div class=\"p3793\" style=\"display: none;\"><div style=\"display: table-cell;\"></div><div style=\"display: table-cell;\">max_width&nbsp;=&nbsp;None,</div></div><div class=\"p3793\" style=\"display: none;\"><div style=\"display: table-cell;\"></div><div style=\"display: table-cell;\">min_height&nbsp;=&nbsp;None,</div></div><div class=\"p3793\" style=\"display: none;\"><div style=\"display: table-cell;\"></div><div style=\"display: table-cell;\">min_width&nbsp;=&nbsp;None,</div></div><div class=\"p3793\" style=\"display: none;\"><div style=\"display: table-cell;\"></div><div style=\"display: table-cell;\">name&nbsp;=&nbsp;None,</div></div><div class=\"p3793\" style=\"display: none;\"><div style=\"display: table-cell;\"></div><div style=\"display: table-cell;\">resizable&nbsp;=&nbsp;False,</div></div><div class=\"p3793\" style=\"display: none;\"><div style=\"display: table-cell;\"></div><div style=\"display: table-cell;\">rows&nbsp;=&nbsp;None,</div></div><div class=\"p3793\" style=\"display: none;\"><div style=\"display: table-cell;\"></div><div style=\"display: table-cell;\">sizing_mode&nbsp;=&nbsp;'stretch_width',</div></div><div class=\"p3793\" style=\"display: none;\"><div style=\"display: table-cell;\"></div><div style=\"display: table-cell;\">spacing&nbsp;=&nbsp;0,</div></div><div class=\"p3793\" style=\"display: none;\"><div style=\"display: table-cell;\"></div><div style=\"display: table-cell;\">styles&nbsp;=&nbsp;{},</div></div><div class=\"p3793\" style=\"display: none;\"><div style=\"display: table-cell;\"></div><div style=\"display: table-cell;\">stylesheets&nbsp;=&nbsp;[],</div></div><div class=\"p3793\" style=\"display: none;\"><div style=\"display: table-cell;\"></div><div style=\"display: table-cell;\">subscribed_events&nbsp;=&nbsp;PropertyValueSet(),</div></div><div class=\"p3793\" style=\"display: none;\"><div style=\"display: table-cell;\"></div><div style=\"display: table-cell;\">syncable&nbsp;=&nbsp;True,</div></div><div class=\"p3793\" style=\"display: none;\"><div style=\"display: table-cell;\"></div><div style=\"display: table-cell;\">tags&nbsp;=&nbsp;[],</div></div><div class=\"p3793\" style=\"display: none;\"><div style=\"display: table-cell;\"></div><div style=\"display: table-cell;\">toolbar&nbsp;=&nbsp;Toolbar(id='p3117', ...),</div></div><div class=\"p3793\" style=\"display: none;\"><div style=\"display: table-cell;\"></div><div style=\"display: table-cell;\">toolbar_location&nbsp;=&nbsp;'right',</div></div><div class=\"p3793\" style=\"display: none;\"><div style=\"display: table-cell;\"></div><div style=\"display: table-cell;\">visible&nbsp;=&nbsp;True,</div></div><div class=\"p3793\" style=\"display: none;\"><div style=\"display: table-cell;\"></div><div style=\"display: table-cell;\">width&nbsp;=&nbsp;None,</div></div><div class=\"p3793\" style=\"display: none;\"><div style=\"display: table-cell;\"></div><div style=\"display: table-cell;\">width_policy&nbsp;=&nbsp;'auto')</div></div></div>\n",
       "<script>\n",
       "(function() {\n",
       "  let expanded = false;\n",
       "  const ellipsis = document.getElementById(\"p3794\");\n",
       "  ellipsis.addEventListener(\"click\", function() {\n",
       "    const rows = document.getElementsByClassName(\"p3793\");\n",
       "    for (let i = 0; i < rows.length; i++) {\n",
       "      const el = rows[i];\n",
       "      el.style.display = expanded ? \"none\" : \"table-row\";\n",
       "    }\n",
       "    ellipsis.innerHTML = expanded ? \"&hellip;)\" : \"&lsaquo;&lsaquo;&lsaquo;\";\n",
       "    expanded = !expanded;\n",
       "  });\n",
       "})();\n",
       "</script>\n"
      ],
      "text/plain": [
       "GridPlot(id='p3118', ...)"
      ]
     },
     "execution_count": 8,
     "metadata": {},
     "output_type": "execute_result"
    }
   ],
   "source": [
    "bt.plot(resample=False)"
   ]
  },
  {
   "cell_type": "markdown",
   "metadata": {},
   "source": [
    "## Now let's optimize the long short strategy\n",
    "Note, this will take a while to run depending on how many parameters you want to optimize on.\n",
    "\n",
    "I'm copying the class down here to remove the progress bars they conflict with the optimizer progress bars"
   ]
  },
  {
   "cell_type": "code",
   "execution_count": 18,
   "metadata": {},
   "outputs": [
    {
     "data": {
      "application/vnd.jupyter.widget-view+json": {
       "model_id": "e7267e5886e94d99b062431fdddafd67",
       "version_major": 2,
       "version_minor": 0
      },
      "text/plain": [
       "Backtest.optimize:   0%|          | 0/13 [00:00<?, ?it/s]"
      ]
     },
     "metadata": {},
     "output_type": "display_data"
    },
    {
     "name": "stdout",
     "output_type": "stream",
     "text": [
      "Best Parameters: {'atr_multiplier': 0.6, 'upper_bound_profit_target': 0.05, 'take_profit_loss_reduction': -0.15, 'max_loss_threshold': -0.05}\n"
     ]
    },
    {
     "data": {
      "text/plain": [
       "atr_multiplier  upper_bound_profit_target  take_profit_loss_reduction  max_loss_threshold\n",
       "0.6             0.05                       -0.10                       -0.05                 1.395531e+08\n",
       "                                           -0.15                       -0.05                 1.395531e+08\n",
       "                                                                       -0.15                 1.395531e+08\n",
       "                                                                       -0.20                 1.395531e+08\n",
       "                                           -0.10                       -0.10                 1.395531e+08\n",
       "                                                                                                 ...     \n",
       "0.3             0.03                       -0.15                       -0.05                 9.287254e+07\n",
       "                                                                       -0.10                 9.287254e+07\n",
       "                0.09                       -0.15                       -0.10                 6.517638e+07\n",
       "                                           -0.10                       -0.20                 6.517638e+07\n",
       "                                                                       -0.15                 6.517638e+07\n",
       "Name: Equity Final [$], Length: 123, dtype: float64"
      ]
     },
     "execution_count": 18,
     "metadata": {},
     "output_type": "execute_result"
    }
   ],
   "source": [
    "stats, heatmap = bt.optimize(\n",
    "    # initial_position_size = np.arange(0.3, 0.6, 0.1).tolist(),\n",
    "    # percent_invested_threshold = 0.7 \n",
    "    # atr_length = np.arange(7,37,10).to_list(), # 14 days\n",
    "    atr_multiplier = np.arange(0.3, 1.5, 0.3).tolist(),\n",
    "    # add_size = np.arange(0.10,0.30, 0.10).tolist(),\n",
    "    # delay_period = np.arange(250,1500,500).tolist(),\n",
    "    # delta_time = np.arange(1000,5000,1000).tolist(),\n",
    "    upper_bound_profit_target = np.arange(0.03, 0.10, 0.02).tolist(),\n",
    "    # lower_bound_loss_threshold = np.arange(-0.10, 0.03, 0.03).tolist(),\n",
    "    take_profit_loss_reduction = np.arange(-0.15, -0.05, 0.05).tolist(), # This is the amount that the take profit is reduced by if the position is highly leveraged and we wish to trim\n",
    "    # deleverage_pct = 0.5 # This is the amount that the position is reduced by if the position is highly leveraged and we wish to trim\n",
    "    max_loss_threshold = np.arange(-0.05, -0.20, -0.05).tolist(),\n",
    "    maximize='Equity Final [$]', \n",
    "    # maximize='Max. Drawdown [%]',# this can be any of the column names from the stats table the output of the backtest\n",
    "    max_tries=200,\n",
    "    random_state=0,\n",
    "    return_heatmap=True)\n",
    "best_params = stats._strategy.__dict__[\"_params\"] # This will print out all the parameters used for the best backtest\n",
    "print(f'Best Parameters: {best_params}')\n",
    "heatmap.sort_values(ascending=False).iloc[:-5] # print the top 5 parameter sets"
   ]
  },
  {
   "cell_type": "code",
   "execution_count": 10,
   "metadata": {},
   "outputs": [
    {
     "data": {
      "text/html": [
       "<div style=\"display: table;\"><div style=\"display: table-row;\"><div style=\"display: table-cell;\"><b title=\"bokeh.models.plots.GridPlot\">GridPlot</b>(</div><div style=\"display: table-cell;\">id&nbsp;=&nbsp;'p4208', <span id=\"p4644\" style=\"cursor: pointer;\">&hellip;)</span></div></div><div class=\"p4643\" style=\"display: none;\"><div style=\"display: table-cell;\"></div><div style=\"display: table-cell;\">align&nbsp;=&nbsp;'auto',</div></div><div class=\"p4643\" style=\"display: none;\"><div style=\"display: table-cell;\"></div><div style=\"display: table-cell;\">aspect_ratio&nbsp;=&nbsp;None,</div></div><div class=\"p4643\" style=\"display: none;\"><div style=\"display: table-cell;\"></div><div style=\"display: table-cell;\">children&nbsp;=&nbsp;[(figure(id='p3796', ...), 0, 0), (figure(id='p3848', ...), 0, 1), (figure(id='p3900', ...), 0, 2), (figure(id='p3952', ...), 1, 0), (figure(id='p4004', ...), 1, 1), (figure(id='p4056', ...), 1, 2)],</div></div><div class=\"p4643\" style=\"display: none;\"><div style=\"display: table-cell;\"></div><div style=\"display: table-cell;\">cols&nbsp;=&nbsp;None,</div></div><div class=\"p4643\" style=\"display: none;\"><div style=\"display: table-cell;\"></div><div style=\"display: table-cell;\">context_menu&nbsp;=&nbsp;None,</div></div><div class=\"p4643\" style=\"display: none;\"><div style=\"display: table-cell;\"></div><div style=\"display: table-cell;\">css_classes&nbsp;=&nbsp;[],</div></div><div class=\"p4643\" style=\"display: none;\"><div style=\"display: table-cell;\"></div><div style=\"display: table-cell;\">disabled&nbsp;=&nbsp;False,</div></div><div class=\"p4643\" style=\"display: none;\"><div style=\"display: table-cell;\"></div><div style=\"display: table-cell;\">flow_mode&nbsp;=&nbsp;'block',</div></div><div class=\"p4643\" style=\"display: none;\"><div style=\"display: table-cell;\"></div><div style=\"display: table-cell;\">height&nbsp;=&nbsp;None,</div></div><div class=\"p4643\" style=\"display: none;\"><div style=\"display: table-cell;\"></div><div style=\"display: table-cell;\">height_policy&nbsp;=&nbsp;'auto',</div></div><div class=\"p4643\" style=\"display: none;\"><div style=\"display: table-cell;\"></div><div style=\"display: table-cell;\">js_event_callbacks&nbsp;=&nbsp;{},</div></div><div class=\"p4643\" style=\"display: none;\"><div style=\"display: table-cell;\"></div><div style=\"display: table-cell;\">js_property_callbacks&nbsp;=&nbsp;{},</div></div><div class=\"p4643\" style=\"display: none;\"><div style=\"display: table-cell;\"></div><div style=\"display: table-cell;\">margin&nbsp;=&nbsp;None,</div></div><div class=\"p4643\" style=\"display: none;\"><div style=\"display: table-cell;\"></div><div style=\"display: table-cell;\">max_height&nbsp;=&nbsp;None,</div></div><div class=\"p4643\" style=\"display: none;\"><div style=\"display: table-cell;\"></div><div style=\"display: table-cell;\">max_width&nbsp;=&nbsp;None,</div></div><div class=\"p4643\" style=\"display: none;\"><div style=\"display: table-cell;\"></div><div style=\"display: table-cell;\">min_height&nbsp;=&nbsp;None,</div></div><div class=\"p4643\" style=\"display: none;\"><div style=\"display: table-cell;\"></div><div style=\"display: table-cell;\">min_width&nbsp;=&nbsp;None,</div></div><div class=\"p4643\" style=\"display: none;\"><div style=\"display: table-cell;\"></div><div style=\"display: table-cell;\">name&nbsp;=&nbsp;None,</div></div><div class=\"p4643\" style=\"display: none;\"><div style=\"display: table-cell;\"></div><div style=\"display: table-cell;\">resizable&nbsp;=&nbsp;False,</div></div><div class=\"p4643\" style=\"display: none;\"><div style=\"display: table-cell;\"></div><div style=\"display: table-cell;\">rows&nbsp;=&nbsp;None,</div></div><div class=\"p4643\" style=\"display: none;\"><div style=\"display: table-cell;\"></div><div style=\"display: table-cell;\">sizing_mode&nbsp;=&nbsp;None,</div></div><div class=\"p4643\" style=\"display: none;\"><div style=\"display: table-cell;\"></div><div style=\"display: table-cell;\">spacing&nbsp;=&nbsp;0,</div></div><div class=\"p4643\" style=\"display: none;\"><div style=\"display: table-cell;\"></div><div style=\"display: table-cell;\">styles&nbsp;=&nbsp;{},</div></div><div class=\"p4643\" style=\"display: none;\"><div style=\"display: table-cell;\"></div><div style=\"display: table-cell;\">stylesheets&nbsp;=&nbsp;[],</div></div><div class=\"p4643\" style=\"display: none;\"><div style=\"display: table-cell;\"></div><div style=\"display: table-cell;\">subscribed_events&nbsp;=&nbsp;PropertyValueSet(),</div></div><div class=\"p4643\" style=\"display: none;\"><div style=\"display: table-cell;\"></div><div style=\"display: table-cell;\">syncable&nbsp;=&nbsp;True,</div></div><div class=\"p4643\" style=\"display: none;\"><div style=\"display: table-cell;\"></div><div style=\"display: table-cell;\">tags&nbsp;=&nbsp;[],</div></div><div class=\"p4643\" style=\"display: none;\"><div style=\"display: table-cell;\"></div><div style=\"display: table-cell;\">toolbar&nbsp;=&nbsp;Toolbar(id='p4207', ...),</div></div><div class=\"p4643\" style=\"display: none;\"><div style=\"display: table-cell;\"></div><div style=\"display: table-cell;\">toolbar_location&nbsp;=&nbsp;'above',</div></div><div class=\"p4643\" style=\"display: none;\"><div style=\"display: table-cell;\"></div><div style=\"display: table-cell;\">visible&nbsp;=&nbsp;True,</div></div><div class=\"p4643\" style=\"display: none;\"><div style=\"display: table-cell;\"></div><div style=\"display: table-cell;\">width&nbsp;=&nbsp;None,</div></div><div class=\"p4643\" style=\"display: none;\"><div style=\"display: table-cell;\"></div><div style=\"display: table-cell;\">width_policy&nbsp;=&nbsp;'auto')</div></div></div>\n",
       "<script>\n",
       "(function() {\n",
       "  let expanded = false;\n",
       "  const ellipsis = document.getElementById(\"p4644\");\n",
       "  ellipsis.addEventListener(\"click\", function() {\n",
       "    const rows = document.getElementsByClassName(\"p4643\");\n",
       "    for (let i = 0; i < rows.length; i++) {\n",
       "      const el = rows[i];\n",
       "      el.style.display = expanded ? \"none\" : \"table-row\";\n",
       "    }\n",
       "    ellipsis.innerHTML = expanded ? \"&hellip;)\" : \"&lsaquo;&lsaquo;&lsaquo;\";\n",
       "    expanded = !expanded;\n",
       "  });\n",
       "})();\n",
       "</script>\n"
      ],
      "text/plain": [
       "GridPlot(id='p4208', ...)"
      ]
     },
     "execution_count": 10,
     "metadata": {},
     "output_type": "execute_result"
    }
   ],
   "source": [
    "# Plot the heatmap\n",
    "from backtesting.lib import plot_heatmaps\n",
    "plot_heatmaps(heatmap, agg='mean')\n"
   ]
  },
  {
   "cell_type": "markdown",
   "metadata": {},
   "source": [
    "### Rerun the stats for the best strategy\n"
   ]
  },
  {
   "cell_type": "code",
   "execution_count": 21,
   "metadata": {},
   "outputs": [
    {
     "ename": "KeyError",
     "evalue": "'params'",
     "output_type": "error",
     "traceback": [
      "\u001b[0;31m---------------------------------------------------------------------------\u001b[0m",
      "\u001b[0;31mKeyError\u001b[0m                                  Traceback (most recent call last)",
      "Cell \u001b[0;32mIn[21], line 2\u001b[0m\n\u001b[1;32m      1\u001b[0m bt\u001b[39m.\u001b[39mrun(\u001b[39m*\u001b[39m\u001b[39m*\u001b[39mbest_params)\n\u001b[0;32m----> 2\u001b[0m filename \u001b[39m=\u001b[39m create_filename(stats)\n\u001b[1;32m      3\u001b[0m bt\u001b[39m.\u001b[39mplot(resample\u001b[39m=\u001b[39m\u001b[39mFalse\u001b[39;00m, filename\u001b[39m=\u001b[39mfilename)\n",
      "Cell \u001b[0;32mIn[19], line 5\u001b[0m, in \u001b[0;36mcreate_filename\u001b[0;34m(stats_df)\u001b[0m\n\u001b[1;32m      4\u001b[0m \u001b[39mdef\u001b[39;00m \u001b[39mcreate_filename\u001b[39m(stats_df):\n\u001b[0;32m----> 5\u001b[0m     params \u001b[39m=\u001b[39m stats_df\u001b[39m.\u001b[39;49m_strategy\u001b[39m.\u001b[39;49m\u001b[39m__dict__\u001b[39;49m[\u001b[39m'\u001b[39;49m\u001b[39mparams\u001b[39;49m\u001b[39m'\u001b[39;49m]\n\u001b[1;32m      6\u001b[0m     filename \u001b[39m=\u001b[39m \u001b[39m'\u001b[39m\u001b[39mhtml_files/\u001b[39m\u001b[39m'\u001b[39m\n\u001b[1;32m      7\u001b[0m     \u001b[39m# unpack the best params and add them to a filename\u001b[39;00m\n",
      "\u001b[0;31mKeyError\u001b[0m: 'params'"
     ]
    }
   ],
   "source": [
    "bt.run(**best_params)\n",
    "filename = create_filename(stats)\n",
    "bt.plot(resample=False, filename=filename)"
   ]
  },
  {
   "cell_type": "code",
   "execution_count": 17,
   "metadata": {},
   "outputs": [
    {
     "name": "stdout",
     "output_type": "stream",
     "text": [
      "html_files/atr_m_1.2_upper_0.09_take__-0.1_max_l_-0.0_.html\n"
     ]
    },
    {
     "name": "stderr",
     "output_type": "stream",
     "text": [
      "/Users/ericervin/opt/anaconda3/envs/datascience/lib/python3.10/site-packages/backtesting/_plotting.py:122: UserWarning: Data contains too many candlesticks to plot; downsampling to '2H'. See `Backtest.plot(resample=...)`\n",
      "  warnings.warn(f\"Data contains too many candlesticks to plot; downsampling to {freq!r}. \"\n"
     ]
    },
    {
     "data": {
      "text/html": [
       "<div style=\"display: table;\"><div style=\"display: table-row;\"><div style=\"display: table-cell;\"><b title=\"bokeh.models.plots.GridPlot\">GridPlot</b>(</div><div style=\"display: table-cell;\">id&nbsp;=&nbsp;'p13752', <span id=\"p14429\" style=\"cursor: pointer;\">&hellip;)</span></div></div><div class=\"p14428\" style=\"display: none;\"><div style=\"display: table-cell;\"></div><div style=\"display: table-cell;\">align&nbsp;=&nbsp;'auto',</div></div><div class=\"p14428\" style=\"display: none;\"><div style=\"display: table-cell;\"></div><div style=\"display: table-cell;\">aspect_ratio&nbsp;=&nbsp;None,</div></div><div class=\"p14428\" style=\"display: none;\"><div style=\"display: table-cell;\"></div><div style=\"display: table-cell;\">children&nbsp;=&nbsp;[(figure(id='p13092', ...), 0, 0), (figure(id='p13205', ...), 1, 0), (figure(id='p13033', ...), 2, 0), (figure(id='p13277', ...), 3, 0), (figure(id='p13389', ...), 4, 0), (figure(id='p13450', ...), 5, 0), (figure(id='p13510', ...), 6, 0)],</div></div><div class=\"p14428\" style=\"display: none;\"><div style=\"display: table-cell;\"></div><div style=\"display: table-cell;\">cols&nbsp;=&nbsp;None,</div></div><div class=\"p14428\" style=\"display: none;\"><div style=\"display: table-cell;\"></div><div style=\"display: table-cell;\">context_menu&nbsp;=&nbsp;None,</div></div><div class=\"p14428\" style=\"display: none;\"><div style=\"display: table-cell;\"></div><div style=\"display: table-cell;\">css_classes&nbsp;=&nbsp;[],</div></div><div class=\"p14428\" style=\"display: none;\"><div style=\"display: table-cell;\"></div><div style=\"display: table-cell;\">disabled&nbsp;=&nbsp;False,</div></div><div class=\"p14428\" style=\"display: none;\"><div style=\"display: table-cell;\"></div><div style=\"display: table-cell;\">flow_mode&nbsp;=&nbsp;'block',</div></div><div class=\"p14428\" style=\"display: none;\"><div style=\"display: table-cell;\"></div><div style=\"display: table-cell;\">height&nbsp;=&nbsp;None,</div></div><div class=\"p14428\" style=\"display: none;\"><div style=\"display: table-cell;\"></div><div style=\"display: table-cell;\">height_policy&nbsp;=&nbsp;'auto',</div></div><div class=\"p14428\" style=\"display: none;\"><div style=\"display: table-cell;\"></div><div style=\"display: table-cell;\">js_event_callbacks&nbsp;=&nbsp;{},</div></div><div class=\"p14428\" style=\"display: none;\"><div style=\"display: table-cell;\"></div><div style=\"display: table-cell;\">js_property_callbacks&nbsp;=&nbsp;{},</div></div><div class=\"p14428\" style=\"display: none;\"><div style=\"display: table-cell;\"></div><div style=\"display: table-cell;\">margin&nbsp;=&nbsp;None,</div></div><div class=\"p14428\" style=\"display: none;\"><div style=\"display: table-cell;\"></div><div style=\"display: table-cell;\">max_height&nbsp;=&nbsp;None,</div></div><div class=\"p14428\" style=\"display: none;\"><div style=\"display: table-cell;\"></div><div style=\"display: table-cell;\">max_width&nbsp;=&nbsp;None,</div></div><div class=\"p14428\" style=\"display: none;\"><div style=\"display: table-cell;\"></div><div style=\"display: table-cell;\">min_height&nbsp;=&nbsp;None,</div></div><div class=\"p14428\" style=\"display: none;\"><div style=\"display: table-cell;\"></div><div style=\"display: table-cell;\">min_width&nbsp;=&nbsp;None,</div></div><div class=\"p14428\" style=\"display: none;\"><div style=\"display: table-cell;\"></div><div style=\"display: table-cell;\">name&nbsp;=&nbsp;None,</div></div><div class=\"p14428\" style=\"display: none;\"><div style=\"display: table-cell;\"></div><div style=\"display: table-cell;\">resizable&nbsp;=&nbsp;False,</div></div><div class=\"p14428\" style=\"display: none;\"><div style=\"display: table-cell;\"></div><div style=\"display: table-cell;\">rows&nbsp;=&nbsp;None,</div></div><div class=\"p14428\" style=\"display: none;\"><div style=\"display: table-cell;\"></div><div style=\"display: table-cell;\">sizing_mode&nbsp;=&nbsp;'stretch_width',</div></div><div class=\"p14428\" style=\"display: none;\"><div style=\"display: table-cell;\"></div><div style=\"display: table-cell;\">spacing&nbsp;=&nbsp;0,</div></div><div class=\"p14428\" style=\"display: none;\"><div style=\"display: table-cell;\"></div><div style=\"display: table-cell;\">styles&nbsp;=&nbsp;{},</div></div><div class=\"p14428\" style=\"display: none;\"><div style=\"display: table-cell;\"></div><div style=\"display: table-cell;\">stylesheets&nbsp;=&nbsp;[],</div></div><div class=\"p14428\" style=\"display: none;\"><div style=\"display: table-cell;\"></div><div style=\"display: table-cell;\">subscribed_events&nbsp;=&nbsp;PropertyValueSet(),</div></div><div class=\"p14428\" style=\"display: none;\"><div style=\"display: table-cell;\"></div><div style=\"display: table-cell;\">syncable&nbsp;=&nbsp;True,</div></div><div class=\"p14428\" style=\"display: none;\"><div style=\"display: table-cell;\"></div><div style=\"display: table-cell;\">tags&nbsp;=&nbsp;[],</div></div><div class=\"p14428\" style=\"display: none;\"><div style=\"display: table-cell;\"></div><div style=\"display: table-cell;\">toolbar&nbsp;=&nbsp;Toolbar(id='p13751', ...),</div></div><div class=\"p14428\" style=\"display: none;\"><div style=\"display: table-cell;\"></div><div style=\"display: table-cell;\">toolbar_location&nbsp;=&nbsp;'right',</div></div><div class=\"p14428\" style=\"display: none;\"><div style=\"display: table-cell;\"></div><div style=\"display: table-cell;\">visible&nbsp;=&nbsp;True,</div></div><div class=\"p14428\" style=\"display: none;\"><div style=\"display: table-cell;\"></div><div style=\"display: table-cell;\">width&nbsp;=&nbsp;None,</div></div><div class=\"p14428\" style=\"display: none;\"><div style=\"display: table-cell;\"></div><div style=\"display: table-cell;\">width_policy&nbsp;=&nbsp;'auto')</div></div></div>\n",
       "<script>\n",
       "(function() {\n",
       "  let expanded = false;\n",
       "  const ellipsis = document.getElementById(\"p14429\");\n",
       "  ellipsis.addEventListener(\"click\", function() {\n",
       "    const rows = document.getElementsByClassName(\"p14428\");\n",
       "    for (let i = 0; i < rows.length; i++) {\n",
       "      const el = rows[i];\n",
       "      el.style.display = expanded ? \"none\" : \"table-row\";\n",
       "    }\n",
       "    ellipsis.innerHTML = expanded ? \"&hellip;)\" : \"&lsaquo;&lsaquo;&lsaquo;\";\n",
       "    expanded = !expanded;\n",
       "  });\n",
       "})();\n",
       "</script>\n"
      ],
      "text/plain": [
       "GridPlot(id='p13752', ...)"
      ]
     },
     "execution_count": 17,
     "metadata": {},
     "output_type": "execute_result"
    }
   ],
   "source": [
    "filename = 'html_files/'\n",
    "# unpack the best params and add them to a filename\n",
    "for key, value in best_params.items():\n",
    "    # keep the first 5 letters from each key\n",
    "    key = key[:5]\n",
    "    # just keep the first 4 digits from each value\n",
    "    value= str(value)[:4]\n",
    "    filename += f'{key}_{value}_'\n",
    "filename += '.html'\n",
    "print(filename)\n",
    "\n",
    "bt.plot(filename=filename)"
   ]
  },
  {
   "cell_type": "code",
   "execution_count": null,
   "metadata": {},
   "outputs": [],
   "source": []
  }
 ],
 "metadata": {
  "kernelspec": {
   "display_name": "datascience",
   "language": "python",
   "name": "python3"
  },
  "language_info": {
   "codemirror_mode": {
    "name": "ipython",
    "version": 3
   },
   "file_extension": ".py",
   "mimetype": "text/x-python",
   "name": "python",
   "nbconvert_exporter": "python",
   "pygments_lexer": "ipython3",
   "version": "3.10.10"
  },
  "orig_nbformat": 4
 },
 "nbformat": 4,
 "nbformat_minor": 2
}
