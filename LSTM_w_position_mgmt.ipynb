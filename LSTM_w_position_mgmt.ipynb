{
 "cells": [
  {
   "attachments": {},
   "cell_type": "markdown",
   "metadata": {},
   "source": [
    "The following can only be run once per kernel restart"
   ]
  },
  {
   "cell_type": "code",
   "execution_count": 3,
   "metadata": {},
   "outputs": [],
   "source": [
    "import multiprocessing as mp\n",
    "mp.set_start_method('fork')"
   ]
  },
  {
   "cell_type": "code",
   "execution_count": 4,
   "metadata": {},
   "outputs": [],
   "source": [
    "import pandas as pd\n",
    "import numpy as np\n",
    "import logging\n",
    "from backtesting import Backtest\n",
    "from backtesting.lib import resample_apply, plot_heatmaps, TRADES_AGG\n",
    "logging.basicConfig(level=logging.WARNING, format='%(asctime)s %(message)s', datefmt='%m/%d/%Y %I:%M:%S %p')\n",
    "\n",
    "from strategies import LONG_SHORT_Underwater_w_decay_and_deleverage\n"
   ]
  },
  {
   "cell_type": "code",
   "execution_count": 13,
   "metadata": {},
   "outputs": [],
   "source": [
    "OUTPUT_DIR                = \"html_files\"\n",
    "OUTPUT_FILE_NAME_PREFIX   = \"strat\"\n",
    "OUTPUT_FILE_NAME_PATTERN  = f'{OUTPUT_DIR}/{OUTPUT_FILE_NAME_PREFIX}'\n",
    "OUTPUT_FILE_EXTENSION     = \".html\""
   ]
  },
  {
   "cell_type": "code",
   "execution_count": 14,
   "metadata": {},
   "outputs": [],
   "source": [
    "import os\n",
    "\n",
    "# This will be handy when we want to plot so it doesn't store all the html files in the root\n",
    "def create_filename(stats_df):\n",
    "    # Check if the folder html_files exists, if not create it\n",
    "    if not os.path.exists(OUTPUT_DIR):\n",
    "      os.makedirs(OUTPUT_DIR)\n",
    "    \n",
    "    filename  = str(OUTPUT_FILE_NAME_PATTERN)\n",
    "    params    = stats_df._strategy.__dict__['_params']\n",
    "\n",
    "    # unpack the best params and add them to a filename\n",
    "    for key, value in params.items():\n",
    "        # keep the first 5 letters from each key\n",
    "        key       = key[:5]\n",
    "        # just keep the first 4 digits from each value\n",
    "        value     = str(value)[:4]\n",
    "        filename += f'_{key}_{value}_'\n",
    "\n",
    "    filename += OUTPUT_FILE_EXTENSION\n",
    "    \n",
    "    return filename\n"
   ]
  },
  {
   "attachments": {},
   "cell_type": "markdown",
   "metadata": {},
   "source": [
    "# Add in our signals\n",
    "Run the strategies long and short based on our own AI buy and sell signals. Use it as an opportunity to improve the results of our existing AI models.\n",
    "#### Read in a dataframe of our signals\n",
    "prep the dataframe so it has the `Close` price, the `signal` column. \n",
    "For this we can create an `entries` column and an `exits` column.\n",
    "\n",
    "| trigger (from CSV)  | entries          | exits            | signal |\n",
    "| --------            | --------         | --------         | --     |\n",
    "| 1 day passed        | None             | 1 day passed     | 0      |\n",
    "| lstm_open-long      | lstm_open-long   | None             | 1      |\n",
    "| lstm_open-short     | lstm_open-short  | None             | -1     |\n",
    "| NA                  | None             | None             | 0      |\n",
    "| stop loss           | None             | stop loss        | 0      |\n",
    "| take profit         | None             | take profit      | 0      |\n",
    "\n",
    "                      \n",
    "\n",
    "We can then tweak our code above to read from the `entries` column instead of the `signal` column. We will be ignoring the LSTM exits for now because the backtest strategy takes over once we are in a trade. Perhaps this is something we will change in the future but for now we can keep it as is.\n"
   ]
  },
  {
   "attachments": {},
   "cell_type": "markdown",
   "metadata": {},
   "source": [
    "# Import the trades dataframe and manipulate it."
   ]
  },
  {
   "attachments": {},
   "cell_type": "markdown",
   "metadata": {},
   "source": [
    "## Step 1 - Read in the CSV files"
   ]
  },
  {
   "cell_type": "code",
   "execution_count": 6,
   "metadata": {},
   "outputs": [],
   "source": [
    "from typing import List\n",
    "lstm_csv_files = [\"test_data/2dc0f4b2_minutely.csv\",\n",
    "\"test_data/3dca0a12_minutely.csv\",\n",
    "\"test_data/9295144c_minutely.csv\",\n",
    "\"test_data/b2d47ab1_minutely.csv\",\n",
    "\"test_data/b9962cd1_minutely.csv\"]\n",
    "\n",
    "def _read_lstm_files() -> List:\n",
    "  lstm_dfs = []\n",
    "\n",
    "  for file in lstm_csv_files:\n",
    "    lstm_dfs.append(pd.read_csv(file))\n",
    "\n",
    "  return lstm_dfs\n",
    "    "
   ]
  },
  {
   "attachments": {},
   "cell_type": "markdown",
   "metadata": {},
   "source": [
    "## Define constants and mappings"
   ]
  },
  {
   "cell_type": "code",
   "execution_count": 7,
   "metadata": {},
   "outputs": [],
   "source": [
    "from dataclasses import dataclass\n",
    "from typing import Optional\n",
    "from collections import defaultdict\n",
    "\n",
    "@dataclass\n",
    "class BackTestColumnValues:\n",
    "  entries : Optional[str]\n",
    "  exits   : Optional[str]\n",
    "  signal  : int\n",
    "\n",
    "LSTM_TRIGGER_MAP = defaultdict(\n",
    "  lambda            : BackTestColumnValues(None             , None            , 0 ), \n",
    "{\n",
    "  \"1 day passed\"    : BackTestColumnValues(None             , \"1 day passed\"  , 0 ),\n",
    "  \"lstm_open-long\"  : BackTestColumnValues(\"lstm_open-long\" , None            , 1 ),\n",
    "  \"lstm_open-short\" : BackTestColumnValues(\"lstm_open-short\", None            , -1),  \n",
    "  \"N/A\"             : BackTestColumnValues(None             , None            , 0 ),\n",
    "  \"stop loss\"       : BackTestColumnValues(None             , \"stop loss\"     , 0 ),\n",
    "  \"take profit\"     : BackTestColumnValues(None             , \"take profile\"  , 0 ),\n",
    "})\n",
    "\n"
   ]
  },
  {
   "attachments": {},
   "cell_type": "markdown",
   "metadata": {},
   "source": [
    "## Define the transformation "
   ]
  },
  {
   "cell_type": "code",
   "execution_count": 8,
   "metadata": {},
   "outputs": [],
   "source": [
    "def _map_lstm_trigger_to_signal(trigger: str) -> Optional[int]:\n",
    "  return LSTM_TRIGGER_MAP[trigger].signal\n",
    "\n",
    "\n",
    "def _map_lstm_trigger_to_entries(trigger: str) -> Optional[str]:\n",
    "  return LSTM_TRIGGER_MAP[trigger].entries\n",
    "\n",
    "\n",
    "def _map_lstm_trigger_to_exits(trigger: str) -> Optional[str]:\n",
    "  return LSTM_TRIGGER_MAP[trigger].exits\n",
    "\n",
    "\n",
    "def _transform_lstm_dfs(lstm_dfs: List):\n",
    "  for lstm_df in lstm_dfs:    \n",
    "    lstm_df.rename(columns={'price': 'Close'}, inplace=True)\n",
    "\n",
    "    lstm_df['trigger']  = lstm_df['trigger'].astype(str)\n",
    "    lstm_df['entries']  = lstm_df['trigger'].apply(_map_lstm_trigger_to_entries)\n",
    "    lstm_df['exits']    = lstm_df['trigger'].apply(_map_lstm_trigger_to_exits)\n",
    "    lstm_df['signal']   = lstm_df['trigger'].apply(_map_lstm_trigger_to_signal)    \n",
    "    lstm_df['time']     = pd.to_datetime(lstm_df['time'], unit='s').dt.strftime('%Y-%m-%dT%H:%M:%S.%fZ')"
   ]
  },
  {
   "attachments": {},
   "cell_type": "markdown",
   "metadata": {},
   "source": [
    "## The starting point of backtesting LSTM CSV files"
   ]
  },
  {
   "cell_type": "code",
   "execution_count": 9,
   "metadata": {},
   "outputs": [],
   "source": [
    "lstm_dfs = _read_lstm_files()\n",
    "_transform_lstm_dfs(lstm_dfs)"
   ]
  },
  {
   "attachments": {},
   "cell_type": "markdown",
   "metadata": {},
   "source": [
    "# Run the backtest on the lstm entries from a single dataframe\n",
    "Based on looking at the stats 1 and 4 had the best results and were fairly similar. I'm going to run this on 1. You can choose to optimize it on any of them."
   ]
  },
  {
   "cell_type": "code",
   "execution_count": 15,
   "metadata": {},
   "outputs": [],
   "source": [
    "test_df = lstm_dfs[1] # <-- Change this to the index of the dataframe 0,1,2,3,4 you want to plot\n",
    "test_df.index = pd.to_datetime(test_df['time']) \n",
    "test_df.rename(columns={'open': 'Open', 'high': 'High', 'low': 'Low', 'close': 'Close'}, inplace=True)\n",
    "test_df.sort_index(inplace=True)"
   ]
  },
  {
   "cell_type": "code",
   "execution_count": 17,
   "metadata": {},
   "outputs": [
    {
     "name": "stdout",
     "output_type": "stream",
     "text": [
      "The first index in the dataframe is 2021-01-09 00:01:00+00:00, the second index is 2023-05-10 22:44:00+00:00\n"
     ]
    }
   ],
   "source": [
    "print(f'The first index in the dataframe is {test_df.index[0]}, the second index is {test_df.index[-1]}')"
   ]
  },
  {
   "cell_type": "code",
   "execution_count": 18,
   "metadata": {},
   "outputs": [],
   "source": [
    "start = \"2021-01-09\"  # Note the strategy requires a warmup period for the ATR to calculate first trades begin after 14 days\n",
    "end = \"2022-05-10\"  # It will always close any open trades at the end of the backtest\n",
    "bt = Backtest(\n",
    "    test_df.loc[start:end],\n",
    "    LONG_SHORT_Underwater_w_decay_and_deleverage,\n",
    "    cash=100_000_000,\n",
    "    exclusive_orders=False,\n",
    "    trade_on_close=True,\n",
    "    margin=1,\n",
    ")\n",
    "stats = bt.run()\n",
    "filename = create_filename(stats)\n",
    "print(stats)\n",
    "bt.plot(resample=False, filename=filename)"
   ]
  },
  {
   "attachments": {},
   "cell_type": "markdown",
   "metadata": {},
   "source": [
    "# Optimize the parameters"
   ]
  },
  {
   "cell_type": "code",
   "execution_count": null,
   "metadata": {},
   "outputs": [
    {
     "data": {
      "application/vnd.jupyter.widget-view+json": {
       "model_id": "df84fa9ed92543b08b1963af39dcbc44",
       "version_major": 2,
       "version_minor": 0
      },
      "text/plain": [
       "Backtest.optimize:   0%|          | 0/13 [00:00<?, ?it/s]"
      ]
     },
     "metadata": {},
     "output_type": "display_data"
    },
    {
     "name": "stdout",
     "output_type": "stream",
     "text": [
      "Best Parameters: {'initial_position_size': 0.4, 'percent_invested_threshold': 0.5, 'atr_length': 12, 'atr_multiplier': 0.4, 'add_size': 0.05, 'delay_period': 250, 'delta_time': 900, 'upper_bound_profit_target': 0.02, 'lower_bound_loss_threshold': -0.1, 'deleverage_pct': 0.5, 'max_loss_threshold': -0.09999999999999999, 'max_hold_length': 1680}\n"
     ]
    },
    {
     "data": {
      "text/plain": [
       "initial_position_size  percent_invested_threshold  atr_length  atr_multiplier  add_size  delay_period  delta_time  upper_bound_profit_target  lower_bound_loss_threshold  deleverage_pct  max_loss_threshold  max_hold_length\n",
       "0.4                    0.5                         12          0.4             0.05      250           900         0.020                      -0.10                       0.50            -0.10               1680               1.354023e+08\n",
       "                       0.4                         12          0.4             0.10      500           600         0.025                      -0.06                       0.50            -0.10               1680               1.298580e+08\n",
       "0.5                    0.6                         18          0.3             0.05      250           600         0.030                      -0.06                       0.25            -0.10               2400               1.293923e+08\n",
       "0.3                    0.6                         18          0.4             0.15      500           700         0.040                      -0.10                       0.25            -0.10               960                1.285415e+08\n",
       "0.5                    0.7                         16          0.4             0.15      250           900         0.020                      -0.06                       0.50            -0.15               1680               1.184608e+08\n",
       "Name: Equity Final [$], dtype: float64"
      ]
     },
     "execution_count": 18,
     "metadata": {},
     "output_type": "execute_result"
    }
   ],
   "source": [
    "stats, heatmap = bt.optimize(\n",
    "    initial_position_size = np.arange(0.3, 0.6, 0.1).tolist(),\n",
    "    percent_invested_threshold = np.arange(0.3, 0.8, 0.1).tolist(),\n",
    "    atr_length = np.arange(12,20,2).tolist(), # 14 days\n",
    "    atr_multiplier = np.arange(0.3, 0.5, 0.1).tolist(),\n",
    "    add_size = np.arange(0.05,0.20, 0.05).tolist(),\n",
    "    delay_period = np.arange(250,750,250).tolist(),\n",
    "    delta_time = np.arange(500,1000,100).tolist(),\n",
    "    upper_bound_profit_target = np.arange(0.005, 0.04, 0.005).tolist(),\n",
    "    lower_bound_loss_threshold = np.arange(-0.10, 0.00, 0.02).tolist(),\n",
    "    # take_profit_loss_reduction = np.arange(-0.15, -0.05, 0.05).tolist(), # This is the amount that the take profit is reduced by if the position is highly leveraged and we wish to trim\n",
    "    deleverage_pct = np.arange(0.25, 0.75, 0.25).tolist(), # This is the amount that the position is reduced by if the position is highly leveraged and we wish to trim\n",
    "    max_loss_threshold = np.arange(-0.15, -0.05, 0.05).tolist(),\n",
    "    max_hold_length = np.arange(60*8, 60*48, 60*4).tolist(), # 8 hours to 48 hours\n",
    "    maximize='Equity Final [$]', \n",
    "    # maximize='Max. Drawdown [%]',# this can be any of the column names from the stats table the output of the backtest\n",
    "    # maximize='Win Rate [%]',\n",
    "    max_tries=200,\n",
    "    random_state=0,\n",
    "    \n",
    "    return_heatmap=True)\n",
    "best_params = stats._strategy.__dict__[\"_params\"] # This will print out all the parameters used for the best backtest\n",
    "print(f'Best Parameters: {best_params}')\n",
    "heatmap.sort_values(ascending=False).iloc[:5] # print the top 5 parameter sets"
   ]
  },
  {
   "cell_type": "code",
   "execution_count": null,
   "metadata": {},
   "outputs": [
    {
     "data": {
      "text/plain": [
       "Start                     2021-01-09 00:01...\n",
       "End                       2022-03-10 23:59...\n",
       "Duration                    425 days 23:58:00\n",
       "Exposure Time [%]                   80.743318\n",
       "Equity Final [$]                 135402323.09\n",
       "Equity Peak [$]                  149505592.19\n",
       "Return [%]                          35.402323\n",
       "Buy & Hold Return [%]               -3.068876\n",
       "Return (Ann.) [%]                   29.651709\n",
       "Volatility (Ann.) [%]               39.092791\n",
       "Sharpe Ratio                         0.758496\n",
       "Sortino Ratio                        1.479336\n",
       "Calmar Ratio                          1.19009\n",
       "Max. Drawdown [%]                  -24.915526\n",
       "Avg. Drawdown [%]                   -0.503028\n",
       "Max. Drawdown Duration      113 days 10:42:00\n",
       "Avg. Drawdown Duration        0 days 23:10:00\n",
       "# Trades                                 1540\n",
       "Win Rate [%]                        58.376623\n",
       "Best Trade [%]                      13.150986\n",
       "Worst Trade [%]                    -26.565973\n",
       "Avg. Trade [%]                      -0.253838\n",
       "Max. Trade Duration           1 days 04:00:00\n",
       "Avg. Trade Duration           0 days 06:35:00\n",
       "Profit Factor                        0.815395\n",
       "Expectancy [%]                      -0.202486\n",
       "SQN                                  1.073961\n",
       "Kelly Criterion                      0.044647\n",
       "_strategy                 LONG_SHORT_Under...\n",
       "_equity_curve                             ...\n",
       "_trades                           Size  En...\n",
       "dtype: object"
      ]
     },
     "execution_count": 19,
     "metadata": {},
     "output_type": "execute_result"
    }
   ],
   "source": [
    "stats"
   ]
  },
  {
   "cell_type": "code",
   "execution_count": null,
   "metadata": {},
   "outputs": [
    {
     "data": {
      "text/html": [
       "<div style=\"display: table;\"><div style=\"display: table-row;\"><div style=\"display: table-cell;\"><b title=\"bokeh.models.plots.GridPlot\">GridPlot</b>(</div><div style=\"display: table-cell;\">id&nbsp;=&nbsp;'p8159', <span id=\"p12915\" style=\"cursor: pointer;\">&hellip;)</span></div></div><div class=\"p12914\" style=\"display: none;\"><div style=\"display: table-cell;\"></div><div style=\"display: table-cell;\">align&nbsp;=&nbsp;'auto',</div></div><div class=\"p12914\" style=\"display: none;\"><div style=\"display: table-cell;\"></div><div style=\"display: table-cell;\">aspect_ratio&nbsp;=&nbsp;None,</div></div><div class=\"p12914\" style=\"display: none;\"><div style=\"display: table-cell;\"></div><div style=\"display: table-cell;\">children&nbsp;=&nbsp;[(figure(id='p3667', ...), 0, 0), (figure(id='p3719', ...), 0, 1), (figure(id='p3771', ...), 0, 2), (figure(id='p3823', ...), 1, 0), (figure(id='p3875', ...), 1, 1), (figure(id='p3927', ...), 1, 2), (figure(id='p3979', ...), 2, 0), (figure(id='p4031', ...), 2, 1), (figure(id='p4083', ...), 2, 2), (figure(id='p4135', ...), 3, 0), (figure(id='p4187', ...), 3, 1), (figure(id='p4239', ...), 3, 2), (figure(id='p4291', ...), 4, 0), (figure(id='p4343', ...), 4, 1), (figure(id='p4395', ...), 4, 2), (figure(id='p4447', ...), 5, 0), (figure(id='p4499', ...), 5, 1), (figure(id='p4551', ...), 5, 2), (figure(id='p4603', ...), 6, 0), (figure(id='p4655', ...), 6, 1), (figure(id='p4707', ...), 6, 2), (figure(id='p4759', ...), 7, 0), (figure(id='p4811', ...), 7, 1), (figure(id='p4863', ...), 7, 2), (figure(id='p4915', ...), 8, 0), (figure(id='p4967', ...), 8, 1), (figure(id='p5019', ...), 8, 2), (figure(id='p5071', ...), 9, 0), (figure(id='p5123', ...), 9, 1), (figure(id='p5175', ...), 9, 2), (figure(id='p5227', ...), 10, 0), (figure(id='p5279', ...), 10, 1), (figure(id='p5331', ...), 10, 2), (figure(id='p5383', ...), 11, 0), (figure(id='p5435', ...), 11, 1), (figure(id='p5487', ...), 11, 2), (figure(id='p5539', ...), 12, 0), (figure(id='p5591', ...), 12, 1), (figure(id='p5643', ...), 12, 2), (figure(id='p5695', ...), 13, 0), (figure(id='p5747', ...), 13, 1), (figure(id='p5799', ...), 13, 2), (figure(id='p5851', ...), 14, 0), (figure(id='p5903', ...), 14, 1), (figure(id='p5955', ...), 14, 2), (figure(id='p6007', ...), 15, 0), (figure(id='p6059', ...), 15, 1), (figure(id='p6111', ...), 15, 2), (figure(id='p6163', ...), 16, 0), (figure(id='p6215', ...), 16, 1), (figure(id='p6267', ...), 16, 2), (figure(id='p6319', ...), 17, 0), (figure(id='p6371', ...), 17, 1), (figure(id='p6423', ...), 17, 2), (figure(id='p6475', ...), 18, 0), (figure(id='p6527', ...), 18, 1), (figure(id='p6579', ...), 18, 2), (figure(id='p6631', ...), 19, 0), (figure(id='p6683', ...), 19, 1), (figure(id='p6735', ...), 19, 2), (figure(id='p6787', ...), 20, 0), (figure(id='p6839', ...), 20, 1), (figure(id='p6891', ...), 20, 2), (figure(id='p6943', ...), 21, 0), (figure(id='p6995', ...), 21, 1), (figure(id='p7047', ...), 21, 2)],</div></div><div class=\"p12914\" style=\"display: none;\"><div style=\"display: table-cell;\"></div><div style=\"display: table-cell;\">cols&nbsp;=&nbsp;None,</div></div><div class=\"p12914\" style=\"display: none;\"><div style=\"display: table-cell;\"></div><div style=\"display: table-cell;\">context_menu&nbsp;=&nbsp;None,</div></div><div class=\"p12914\" style=\"display: none;\"><div style=\"display: table-cell;\"></div><div style=\"display: table-cell;\">css_classes&nbsp;=&nbsp;[],</div></div><div class=\"p12914\" style=\"display: none;\"><div style=\"display: table-cell;\"></div><div style=\"display: table-cell;\">disabled&nbsp;=&nbsp;False,</div></div><div class=\"p12914\" style=\"display: none;\"><div style=\"display: table-cell;\"></div><div style=\"display: table-cell;\">flow_mode&nbsp;=&nbsp;'block',</div></div><div class=\"p12914\" style=\"display: none;\"><div style=\"display: table-cell;\"></div><div style=\"display: table-cell;\">height&nbsp;=&nbsp;None,</div></div><div class=\"p12914\" style=\"display: none;\"><div style=\"display: table-cell;\"></div><div style=\"display: table-cell;\">height_policy&nbsp;=&nbsp;'auto',</div></div><div class=\"p12914\" style=\"display: none;\"><div style=\"display: table-cell;\"></div><div style=\"display: table-cell;\">js_event_callbacks&nbsp;=&nbsp;{},</div></div><div class=\"p12914\" style=\"display: none;\"><div style=\"display: table-cell;\"></div><div style=\"display: table-cell;\">js_property_callbacks&nbsp;=&nbsp;{},</div></div><div class=\"p12914\" style=\"display: none;\"><div style=\"display: table-cell;\"></div><div style=\"display: table-cell;\">margin&nbsp;=&nbsp;None,</div></div><div class=\"p12914\" style=\"display: none;\"><div style=\"display: table-cell;\"></div><div style=\"display: table-cell;\">max_height&nbsp;=&nbsp;None,</div></div><div class=\"p12914\" style=\"display: none;\"><div style=\"display: table-cell;\"></div><div style=\"display: table-cell;\">max_width&nbsp;=&nbsp;None,</div></div><div class=\"p12914\" style=\"display: none;\"><div style=\"display: table-cell;\"></div><div style=\"display: table-cell;\">min_height&nbsp;=&nbsp;None,</div></div><div class=\"p12914\" style=\"display: none;\"><div style=\"display: table-cell;\"></div><div style=\"display: table-cell;\">min_width&nbsp;=&nbsp;None,</div></div><div class=\"p12914\" style=\"display: none;\"><div style=\"display: table-cell;\"></div><div style=\"display: table-cell;\">name&nbsp;=&nbsp;None,</div></div><div class=\"p12914\" style=\"display: none;\"><div style=\"display: table-cell;\"></div><div style=\"display: table-cell;\">resizable&nbsp;=&nbsp;False,</div></div><div class=\"p12914\" style=\"display: none;\"><div style=\"display: table-cell;\"></div><div style=\"display: table-cell;\">rows&nbsp;=&nbsp;None,</div></div><div class=\"p12914\" style=\"display: none;\"><div style=\"display: table-cell;\"></div><div style=\"display: table-cell;\">sizing_mode&nbsp;=&nbsp;None,</div></div><div class=\"p12914\" style=\"display: none;\"><div style=\"display: table-cell;\"></div><div style=\"display: table-cell;\">spacing&nbsp;=&nbsp;0,</div></div><div class=\"p12914\" style=\"display: none;\"><div style=\"display: table-cell;\"></div><div style=\"display: table-cell;\">styles&nbsp;=&nbsp;{},</div></div><div class=\"p12914\" style=\"display: none;\"><div style=\"display: table-cell;\"></div><div style=\"display: table-cell;\">stylesheets&nbsp;=&nbsp;[],</div></div><div class=\"p12914\" style=\"display: none;\"><div style=\"display: table-cell;\"></div><div style=\"display: table-cell;\">subscribed_events&nbsp;=&nbsp;PropertyValueSet(),</div></div><div class=\"p12914\" style=\"display: none;\"><div style=\"display: table-cell;\"></div><div style=\"display: table-cell;\">syncable&nbsp;=&nbsp;True,</div></div><div class=\"p12914\" style=\"display: none;\"><div style=\"display: table-cell;\"></div><div style=\"display: table-cell;\">tags&nbsp;=&nbsp;[],</div></div><div class=\"p12914\" style=\"display: none;\"><div style=\"display: table-cell;\"></div><div style=\"display: table-cell;\">toolbar&nbsp;=&nbsp;Toolbar(id='p8158', ...),</div></div><div class=\"p12914\" style=\"display: none;\"><div style=\"display: table-cell;\"></div><div style=\"display: table-cell;\">toolbar_location&nbsp;=&nbsp;'above',</div></div><div class=\"p12914\" style=\"display: none;\"><div style=\"display: table-cell;\"></div><div style=\"display: table-cell;\">visible&nbsp;=&nbsp;True,</div></div><div class=\"p12914\" style=\"display: none;\"><div style=\"display: table-cell;\"></div><div style=\"display: table-cell;\">width&nbsp;=&nbsp;None,</div></div><div class=\"p12914\" style=\"display: none;\"><div style=\"display: table-cell;\"></div><div style=\"display: table-cell;\">width_policy&nbsp;=&nbsp;'auto')</div></div></div>\n",
       "<script>\n",
       "(function() {\n",
       "  let expanded = false;\n",
       "  const ellipsis = document.getElementById(\"p12915\");\n",
       "  ellipsis.addEventListener(\"click\", function() {\n",
       "    const rows = document.getElementsByClassName(\"p12914\");\n",
       "    for (let i = 0; i < rows.length; i++) {\n",
       "      const el = rows[i];\n",
       "      el.style.display = expanded ? \"none\" : \"table-row\";\n",
       "    }\n",
       "    ellipsis.innerHTML = expanded ? \"&hellip;)\" : \"&lsaquo;&lsaquo;&lsaquo;\";\n",
       "    expanded = !expanded;\n",
       "  });\n",
       "})();\n",
       "</script>\n"
      ],
      "text/plain": [
       "GridPlot(id='p8159', ...)"
      ]
     },
     "execution_count": 20,
     "metadata": {},
     "output_type": "execute_result"
    }
   ],
   "source": [
    "# Plot the heatmaps\n",
    "plot_heatmaps(heatmap, agg='mean')\n"
   ]
  },
  {
   "attachments": {},
   "cell_type": "markdown",
   "metadata": {},
   "source": [
    "Run the best strategy"
   ]
  },
  {
   "cell_type": "code",
   "execution_count": null,
   "metadata": {},
   "outputs": [
    {
     "data": {
      "text/html": [
       "<div style=\"display: table;\"><div style=\"display: table-row;\"><div style=\"display: table-cell;\"><b title=\"bokeh.models.plots.GridPlot\">GridPlot</b>(</div><div style=\"display: table-cell;\">id&nbsp;=&nbsp;'p13557', <span id=\"p14184\" style=\"cursor: pointer;\">&hellip;)</span></div></div><div class=\"p14183\" style=\"display: none;\"><div style=\"display: table-cell;\"></div><div style=\"display: table-cell;\">align&nbsp;=&nbsp;'auto',</div></div><div class=\"p14183\" style=\"display: none;\"><div style=\"display: table-cell;\"></div><div style=\"display: table-cell;\">aspect_ratio&nbsp;=&nbsp;None,</div></div><div class=\"p14183\" style=\"display: none;\"><div style=\"display: table-cell;\"></div><div style=\"display: table-cell;\">children&nbsp;=&nbsp;[(figure(id='p12976', ...), 0, 0), (figure(id='p13089', ...), 1, 0), (figure(id='p12917', ...), 2, 0), (figure(id='p13212', ...), 3, 0), (figure(id='p13273', ...), 4, 0), (figure(id='p13333', ...), 5, 0)],</div></div><div class=\"p14183\" style=\"display: none;\"><div style=\"display: table-cell;\"></div><div style=\"display: table-cell;\">cols&nbsp;=&nbsp;None,</div></div><div class=\"p14183\" style=\"display: none;\"><div style=\"display: table-cell;\"></div><div style=\"display: table-cell;\">context_menu&nbsp;=&nbsp;None,</div></div><div class=\"p14183\" style=\"display: none;\"><div style=\"display: table-cell;\"></div><div style=\"display: table-cell;\">css_classes&nbsp;=&nbsp;[],</div></div><div class=\"p14183\" style=\"display: none;\"><div style=\"display: table-cell;\"></div><div style=\"display: table-cell;\">disabled&nbsp;=&nbsp;False,</div></div><div class=\"p14183\" style=\"display: none;\"><div style=\"display: table-cell;\"></div><div style=\"display: table-cell;\">flow_mode&nbsp;=&nbsp;'block',</div></div><div class=\"p14183\" style=\"display: none;\"><div style=\"display: table-cell;\"></div><div style=\"display: table-cell;\">height&nbsp;=&nbsp;None,</div></div><div class=\"p14183\" style=\"display: none;\"><div style=\"display: table-cell;\"></div><div style=\"display: table-cell;\">height_policy&nbsp;=&nbsp;'auto',</div></div><div class=\"p14183\" style=\"display: none;\"><div style=\"display: table-cell;\"></div><div style=\"display: table-cell;\">js_event_callbacks&nbsp;=&nbsp;{},</div></div><div class=\"p14183\" style=\"display: none;\"><div style=\"display: table-cell;\"></div><div style=\"display: table-cell;\">js_property_callbacks&nbsp;=&nbsp;{},</div></div><div class=\"p14183\" style=\"display: none;\"><div style=\"display: table-cell;\"></div><div style=\"display: table-cell;\">margin&nbsp;=&nbsp;None,</div></div><div class=\"p14183\" style=\"display: none;\"><div style=\"display: table-cell;\"></div><div style=\"display: table-cell;\">max_height&nbsp;=&nbsp;None,</div></div><div class=\"p14183\" style=\"display: none;\"><div style=\"display: table-cell;\"></div><div style=\"display: table-cell;\">max_width&nbsp;=&nbsp;None,</div></div><div class=\"p14183\" style=\"display: none;\"><div style=\"display: table-cell;\"></div><div style=\"display: table-cell;\">min_height&nbsp;=&nbsp;None,</div></div><div class=\"p14183\" style=\"display: none;\"><div style=\"display: table-cell;\"></div><div style=\"display: table-cell;\">min_width&nbsp;=&nbsp;None,</div></div><div class=\"p14183\" style=\"display: none;\"><div style=\"display: table-cell;\"></div><div style=\"display: table-cell;\">name&nbsp;=&nbsp;None,</div></div><div class=\"p14183\" style=\"display: none;\"><div style=\"display: table-cell;\"></div><div style=\"display: table-cell;\">resizable&nbsp;=&nbsp;False,</div></div><div class=\"p14183\" style=\"display: none;\"><div style=\"display: table-cell;\"></div><div style=\"display: table-cell;\">rows&nbsp;=&nbsp;None,</div></div><div class=\"p14183\" style=\"display: none;\"><div style=\"display: table-cell;\"></div><div style=\"display: table-cell;\">sizing_mode&nbsp;=&nbsp;'stretch_width',</div></div><div class=\"p14183\" style=\"display: none;\"><div style=\"display: table-cell;\"></div><div style=\"display: table-cell;\">spacing&nbsp;=&nbsp;0,</div></div><div class=\"p14183\" style=\"display: none;\"><div style=\"display: table-cell;\"></div><div style=\"display: table-cell;\">styles&nbsp;=&nbsp;{},</div></div><div class=\"p14183\" style=\"display: none;\"><div style=\"display: table-cell;\"></div><div style=\"display: table-cell;\">stylesheets&nbsp;=&nbsp;[],</div></div><div class=\"p14183\" style=\"display: none;\"><div style=\"display: table-cell;\"></div><div style=\"display: table-cell;\">subscribed_events&nbsp;=&nbsp;PropertyValueSet(),</div></div><div class=\"p14183\" style=\"display: none;\"><div style=\"display: table-cell;\"></div><div style=\"display: table-cell;\">syncable&nbsp;=&nbsp;True,</div></div><div class=\"p14183\" style=\"display: none;\"><div style=\"display: table-cell;\"></div><div style=\"display: table-cell;\">tags&nbsp;=&nbsp;[],</div></div><div class=\"p14183\" style=\"display: none;\"><div style=\"display: table-cell;\"></div><div style=\"display: table-cell;\">toolbar&nbsp;=&nbsp;Toolbar(id='p13556', ...),</div></div><div class=\"p14183\" style=\"display: none;\"><div style=\"display: table-cell;\"></div><div style=\"display: table-cell;\">toolbar_location&nbsp;=&nbsp;'right',</div></div><div class=\"p14183\" style=\"display: none;\"><div style=\"display: table-cell;\"></div><div style=\"display: table-cell;\">visible&nbsp;=&nbsp;True,</div></div><div class=\"p14183\" style=\"display: none;\"><div style=\"display: table-cell;\"></div><div style=\"display: table-cell;\">width&nbsp;=&nbsp;None,</div></div><div class=\"p14183\" style=\"display: none;\"><div style=\"display: table-cell;\"></div><div style=\"display: table-cell;\">width_policy&nbsp;=&nbsp;'auto')</div></div></div>\n",
       "<script>\n",
       "(function() {\n",
       "  let expanded = false;\n",
       "  const ellipsis = document.getElementById(\"p14184\");\n",
       "  ellipsis.addEventListener(\"click\", function() {\n",
       "    const rows = document.getElementsByClassName(\"p14183\");\n",
       "    for (let i = 0; i < rows.length; i++) {\n",
       "      const el = rows[i];\n",
       "      el.style.display = expanded ? \"none\" : \"table-row\";\n",
       "    }\n",
       "    ellipsis.innerHTML = expanded ? \"&hellip;)\" : \"&lsaquo;&lsaquo;&lsaquo;\";\n",
       "    expanded = !expanded;\n",
       "  });\n",
       "})();\n",
       "</script>\n"
      ],
      "text/plain": [
       "GridPlot(id='p13557', ...)"
      ]
     },
     "execution_count": 21,
     "metadata": {},
     "output_type": "execute_result"
    }
   ],
   "source": [
    "bt.run(**best_params)\n",
    "bt.plot(resample='2h', filename=f'{filename}_optimized.html')"
   ]
  },
  {
   "cell_type": "code",
   "execution_count": null,
   "metadata": {},
   "outputs": [
    {
     "data": {
      "text/plain": [
       "{'initial_position_size': 0.4,\n",
       " 'percent_invested_threshold': 0.5,\n",
       " 'atr_length': 12,\n",
       " 'atr_multiplier': 0.4,\n",
       " 'add_size': 0.05,\n",
       " 'delay_period': 250,\n",
       " 'delta_time': 900,\n",
       " 'upper_bound_profit_target': 0.02,\n",
       " 'lower_bound_loss_threshold': -0.1,\n",
       " 'deleverage_pct': 0.5,\n",
       " 'max_loss_threshold': -0.09999999999999999,\n",
       " 'max_hold_length': 1680}"
      ]
     },
     "execution_count": 23,
     "metadata": {},
     "output_type": "execute_result"
    }
   ],
   "source": [
    "best_params"
   ]
  },
  {
   "attachments": {},
   "cell_type": "markdown",
   "metadata": {},
   "source": [
    "Run the full backtest on the entire period but use the params that were optimized on 2021 data"
   ]
  },
  {
   "cell_type": "code",
   "execution_count": null,
   "metadata": {},
   "outputs": [
    {
     "name": "stdout",
     "output_type": "stream",
     "text": [
      "Start                     2021-01-09 00:01...\n",
      "End                       2023-05-10 23:06...\n",
      "Duration                    851 days 23:05:00\n",
      "Exposure Time [%]                   86.873118\n",
      "Equity Final [$]                 104256409.31\n",
      "Equity Peak [$]                  187790963.81\n",
      "Return [%]                           4.256409\n",
      "Buy & Hold Return [%]              -31.967011\n",
      "Return (Ann.) [%]                    1.801761\n",
      "Volatility (Ann.) [%]               37.270378\n",
      "Sharpe Ratio                         0.048343\n",
      "Sortino Ratio                        0.071419\n",
      "Calmar Ratio                         0.036554\n",
      "Max. Drawdown [%]                  -49.290922\n",
      "Avg. Drawdown [%]                   -0.755592\n",
      "Max. Drawdown Duration      325 days 17:40:00\n",
      "Avg. Drawdown Duration        1 days 23:24:00\n",
      "# Trades                                 2098\n",
      "Win Rate [%]                        53.813155\n",
      "Best Trade [%]                      10.776911\n",
      "Worst Trade [%]                    -32.653414\n",
      "Avg. Trade [%]                      -0.979155\n",
      "Max. Trade Duration          32 days 07:59:00\n",
      "Avg. Trade Duration           1 days 08:31:00\n",
      "Profit Factor                        0.525889\n",
      "Expectancy [%]                      -0.858121\n",
      "SQN                                  0.080932\n",
      "Kelly Criterion                      0.002982\n",
      "_strategy                 LONG_SHORT_Under...\n",
      "_equity_curve                             ...\n",
      "_trades                           Size  En...\n",
      "dtype: object\n"
     ]
    },
    {
     "data": {
      "text/html": [
       "<div style=\"display: table;\"><div style=\"display: table-row;\"><div style=\"display: table-cell;\"><b title=\"bokeh.models.plots.GridPlot\">GridPlot</b>(</div><div style=\"display: table-cell;\">id&nbsp;=&nbsp;'p61565', <span id=\"p62192\" style=\"cursor: pointer;\">&hellip;)</span></div></div><div class=\"p62191\" style=\"display: none;\"><div style=\"display: table-cell;\"></div><div style=\"display: table-cell;\">align&nbsp;=&nbsp;'auto',</div></div><div class=\"p62191\" style=\"display: none;\"><div style=\"display: table-cell;\"></div><div style=\"display: table-cell;\">aspect_ratio&nbsp;=&nbsp;None,</div></div><div class=\"p62191\" style=\"display: none;\"><div style=\"display: table-cell;\"></div><div style=\"display: table-cell;\">children&nbsp;=&nbsp;[(figure(id='p60983', ...), 0, 0), (figure(id='p61096', ...), 1, 0), (figure(id='p60924', ...), 2, 0), (figure(id='p61219', ...), 3, 0), (figure(id='p61280', ...), 4, 0), (figure(id='p61341', ...), 5, 0)],</div></div><div class=\"p62191\" style=\"display: none;\"><div style=\"display: table-cell;\"></div><div style=\"display: table-cell;\">cols&nbsp;=&nbsp;None,</div></div><div class=\"p62191\" style=\"display: none;\"><div style=\"display: table-cell;\"></div><div style=\"display: table-cell;\">context_menu&nbsp;=&nbsp;None,</div></div><div class=\"p62191\" style=\"display: none;\"><div style=\"display: table-cell;\"></div><div style=\"display: table-cell;\">css_classes&nbsp;=&nbsp;[],</div></div><div class=\"p62191\" style=\"display: none;\"><div style=\"display: table-cell;\"></div><div style=\"display: table-cell;\">disabled&nbsp;=&nbsp;False,</div></div><div class=\"p62191\" style=\"display: none;\"><div style=\"display: table-cell;\"></div><div style=\"display: table-cell;\">flow_mode&nbsp;=&nbsp;'block',</div></div><div class=\"p62191\" style=\"display: none;\"><div style=\"display: table-cell;\"></div><div style=\"display: table-cell;\">height&nbsp;=&nbsp;None,</div></div><div class=\"p62191\" style=\"display: none;\"><div style=\"display: table-cell;\"></div><div style=\"display: table-cell;\">height_policy&nbsp;=&nbsp;'auto',</div></div><div class=\"p62191\" style=\"display: none;\"><div style=\"display: table-cell;\"></div><div style=\"display: table-cell;\">js_event_callbacks&nbsp;=&nbsp;{},</div></div><div class=\"p62191\" style=\"display: none;\"><div style=\"display: table-cell;\"></div><div style=\"display: table-cell;\">js_property_callbacks&nbsp;=&nbsp;{},</div></div><div class=\"p62191\" style=\"display: none;\"><div style=\"display: table-cell;\"></div><div style=\"display: table-cell;\">margin&nbsp;=&nbsp;None,</div></div><div class=\"p62191\" style=\"display: none;\"><div style=\"display: table-cell;\"></div><div style=\"display: table-cell;\">max_height&nbsp;=&nbsp;None,</div></div><div class=\"p62191\" style=\"display: none;\"><div style=\"display: table-cell;\"></div><div style=\"display: table-cell;\">max_width&nbsp;=&nbsp;None,</div></div><div class=\"p62191\" style=\"display: none;\"><div style=\"display: table-cell;\"></div><div style=\"display: table-cell;\">min_height&nbsp;=&nbsp;None,</div></div><div class=\"p62191\" style=\"display: none;\"><div style=\"display: table-cell;\"></div><div style=\"display: table-cell;\">min_width&nbsp;=&nbsp;None,</div></div><div class=\"p62191\" style=\"display: none;\"><div style=\"display: table-cell;\"></div><div style=\"display: table-cell;\">name&nbsp;=&nbsp;None,</div></div><div class=\"p62191\" style=\"display: none;\"><div style=\"display: table-cell;\"></div><div style=\"display: table-cell;\">resizable&nbsp;=&nbsp;False,</div></div><div class=\"p62191\" style=\"display: none;\"><div style=\"display: table-cell;\"></div><div style=\"display: table-cell;\">rows&nbsp;=&nbsp;None,</div></div><div class=\"p62191\" style=\"display: none;\"><div style=\"display: table-cell;\"></div><div style=\"display: table-cell;\">sizing_mode&nbsp;=&nbsp;'stretch_width',</div></div><div class=\"p62191\" style=\"display: none;\"><div style=\"display: table-cell;\"></div><div style=\"display: table-cell;\">spacing&nbsp;=&nbsp;0,</div></div><div class=\"p62191\" style=\"display: none;\"><div style=\"display: table-cell;\"></div><div style=\"display: table-cell;\">styles&nbsp;=&nbsp;{},</div></div><div class=\"p62191\" style=\"display: none;\"><div style=\"display: table-cell;\"></div><div style=\"display: table-cell;\">stylesheets&nbsp;=&nbsp;[],</div></div><div class=\"p62191\" style=\"display: none;\"><div style=\"display: table-cell;\"></div><div style=\"display: table-cell;\">subscribed_events&nbsp;=&nbsp;PropertyValueSet(),</div></div><div class=\"p62191\" style=\"display: none;\"><div style=\"display: table-cell;\"></div><div style=\"display: table-cell;\">syncable&nbsp;=&nbsp;True,</div></div><div class=\"p62191\" style=\"display: none;\"><div style=\"display: table-cell;\"></div><div style=\"display: table-cell;\">tags&nbsp;=&nbsp;[],</div></div><div class=\"p62191\" style=\"display: none;\"><div style=\"display: table-cell;\"></div><div style=\"display: table-cell;\">toolbar&nbsp;=&nbsp;Toolbar(id='p61564', ...),</div></div><div class=\"p62191\" style=\"display: none;\"><div style=\"display: table-cell;\"></div><div style=\"display: table-cell;\">toolbar_location&nbsp;=&nbsp;'right',</div></div><div class=\"p62191\" style=\"display: none;\"><div style=\"display: table-cell;\"></div><div style=\"display: table-cell;\">visible&nbsp;=&nbsp;True,</div></div><div class=\"p62191\" style=\"display: none;\"><div style=\"display: table-cell;\"></div><div style=\"display: table-cell;\">width&nbsp;=&nbsp;None,</div></div><div class=\"p62191\" style=\"display: none;\"><div style=\"display: table-cell;\"></div><div style=\"display: table-cell;\">width_policy&nbsp;=&nbsp;'auto')</div></div></div>\n",
       "<script>\n",
       "(function() {\n",
       "  let expanded = false;\n",
       "  const ellipsis = document.getElementById(\"p62192\");\n",
       "  ellipsis.addEventListener(\"click\", function() {\n",
       "    const rows = document.getElementsByClassName(\"p62191\");\n",
       "    for (let i = 0; i < rows.length; i++) {\n",
       "      const el = rows[i];\n",
       "      el.style.display = expanded ? \"none\" : \"table-row\";\n",
       "    }\n",
       "    ellipsis.innerHTML = expanded ? \"&hellip;)\" : \"&lsaquo;&lsaquo;&lsaquo;\";\n",
       "    expanded = !expanded;\n",
       "  });\n",
       "})();\n",
       "</script>\n"
      ],
      "text/plain": [
       "GridPlot(id='p61565', ...)"
      ]
     },
     "execution_count": 125,
     "metadata": {},
     "output_type": "execute_result"
    }
   ],
   "source": [
    "# run it on the full period\n",
    "start = \"2021-01-09\"  # Note the strategy requires a warmup period for the ATR to calculate first trades begin after 14 days\n",
    "end = \"2022-03-10\"  # It will always close any open trades at the end of the backtest\n",
    "bt = Backtest(\n",
    "    test_df, #.loc[start:end],\n",
    "    LONG_SHORT_Underwater_w_decay_and_deleverage,\n",
    "    cash=100_000_000,\n",
    "    exclusive_orders=False,\n",
    "    trade_on_close=True,\n",
    "    margin=1,\n",
    ")\n",
    "stats = bt.run(**best_params)\n",
    "filename = create_filename(stats)\n",
    "print(stats)\n",
    "bt.plot(resample='2h', filename=filename)"
   ]
  },
  {
   "attachments": {},
   "cell_type": "markdown",
   "metadata": {},
   "source": [
    "# Test on different periods of time Possibly set up a cross validation\n",
    "Nice youtube video here https://www.youtube.com/watch?v=9m987swadQU&t=2154s&ab_channel=ChadThackray"
   ]
  },
  {
   "cell_type": "code",
   "execution_count": null,
   "metadata": {},
   "outputs": [],
   "source": []
  }
 ],
 "metadata": {
  "kernelspec": {
   "display_name": "datascience",
   "language": "python",
   "name": "python3"
  },
  "language_info": {
   "codemirror_mode": {
    "name": "ipython",
    "version": 3
   },
   "file_extension": ".py",
   "mimetype": "text/x-python",
   "name": "python",
   "nbconvert_exporter": "python",
   "pygments_lexer": "ipython3",
   "version": "3.10.10"
  },
  "orig_nbformat": 4
 },
 "nbformat": 4,
 "nbformat_minor": 2
}
