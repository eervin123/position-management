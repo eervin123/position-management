{
 "cells": [
  {
   "attachments": {},
   "cell_type": "markdown",
   "metadata": {},
   "source": [
    "The following can only be run once per kernel restart"
   ]
  },
  {
   "cell_type": "code",
   "execution_count": 3,
   "metadata": {},
   "outputs": [],
   "source": [
    "import multiprocessing as mp\n",
    "mp.set_start_method('fork')"
   ]
  },
  {
   "cell_type": "code",
   "execution_count": 4,
   "metadata": {},
   "outputs": [],
   "source": [
    "import pandas as pd\n",
    "import numpy as np\n",
    "import logging\n",
    "from backtesting import Backtest\n",
    "from backtesting.lib import resample_apply, plot_heatmaps, TRADES_AGG\n",
    "logging.basicConfig(level=logging.WARNING, format='%(asctime)s %(message)s', datefmt='%m/%d/%Y %I:%M:%S %p')\n",
    "\n",
    "from strategies import UnderwaterStrategy\n"
   ]
  },
  {
   "cell_type": "code",
   "execution_count": 13,
   "metadata": {},
   "outputs": [],
   "source": [
    "OUTPUT_DIR                = \"html_files\"\n",
    "OUTPUT_FILE_NAME_PREFIX   = \"strat\"\n",
    "OUTPUT_FILE_NAME_PATTERN  = f'{OUTPUT_DIR}/{OUTPUT_FILE_NAME_PREFIX}'\n",
    "OUTPUT_FILE_EXTENSION     = \".html\""
   ]
  },
  {
   "cell_type": "code",
   "execution_count": 14,
   "metadata": {},
   "outputs": [],
   "source": [
    "import os\n",
    "\n",
    "# This will be handy when we want to plot so it doesn't store all the html files in the root\n",
    "def create_filename(stats_df):\n",
    "    # Check if the folder html_files exists, if not create it\n",
    "    if not os.path.exists(OUTPUT_DIR):\n",
    "      os.makedirs(OUTPUT_DIR)\n",
    "    \n",
    "    filename  = str(OUTPUT_FILE_NAME_PATTERN)\n",
    "    params    = stats_df._strategy.__dict__['_params']\n",
    "\n",
    "    # unpack the best params and add them to a filename\n",
    "    for key, value in params.items():\n",
    "        # keep the first 5 letters from each key\n",
    "        key       = key[:5]\n",
    "        # just keep the first 4 digits from each value\n",
    "        value     = str(value)[:4]\n",
    "        filename += f'_{key}_{value}_'\n",
    "\n",
    "    filename += OUTPUT_FILE_EXTENSION\n",
    "    \n",
    "    return filename\n"
   ]
  },
  {
   "attachments": {},
   "cell_type": "markdown",
   "metadata": {},
   "source": [
    "# Add in our signals\n",
    "Run the strategies long and short based on our own AI buy and sell signals. Use it as an opportunity to improve the results of our existing AI models.\n",
    "#### Read in a dataframe of our signals\n",
    "prep the dataframe so it has the `Close` price, the `signal` column. \n",
    "For this we can create an `entries` column and an `exits` column.\n",
    "\n",
    "| trigger (from CSV)  | entries          | exits            | signal |\n",
    "| --------            | --------         | --------         | --     |\n",
    "| 1 day passed        | None             | 1 day passed     | 0      |\n",
    "| lstm_open-long      | lstm_open-long   | None             | 1      |\n",
    "| lstm_open-short     | lstm_open-short  | None             | -1     |\n",
    "| NA                  | None             | None             | 0      |\n",
    "| stop loss           | None             | stop loss        | 0      |\n",
    "| take profit         | None             | take profit      | 0      |\n",
    "\n",
    "                      \n",
    "\n",
    "We can then tweak our code above to read from the `entries` column instead of the `signal` column. We will be ignoring the LSTM exits for now because the backtest strategy takes over once we are in a trade. Perhaps this is something we will change in the future but for now we can keep it as is.\n"
   ]
  },
  {
   "attachments": {},
   "cell_type": "markdown",
   "metadata": {},
   "source": [
    "# Import the trades dataframe and manipulate it."
   ]
  },
  {
   "attachments": {},
   "cell_type": "markdown",
   "metadata": {},
   "source": [
    "## Step 1 - Read in the CSV files"
   ]
  },
  {
   "cell_type": "code",
   "execution_count": 6,
   "metadata": {},
   "outputs": [],
   "source": [
    "from typing import List\n",
    "lstm_csv_files = [\"test_data/2dc0f4b2_minutely.csv\",\n",
    "\"test_data/3dca0a12_minutely.csv\",\n",
    "\"test_data/9295144c_minutely.csv\",\n",
    "\"test_data/b2d47ab1_minutely.csv\",\n",
    "\"test_data/b9962cd1_minutely.csv\"]\n",
    "\n",
    "def _read_lstm_files() -> List:\n",
    "  lstm_dfs = []\n",
    "\n",
    "  for file in lstm_csv_files:\n",
    "    lstm_dfs.append(pd.read_csv(file))\n",
    "\n",
    "  return lstm_dfs\n",
    "    "
   ]
  },
  {
   "attachments": {},
   "cell_type": "markdown",
   "metadata": {},
   "source": [
    "## Define constants and mappings"
   ]
  },
  {
   "cell_type": "code",
   "execution_count": 7,
   "metadata": {},
   "outputs": [],
   "source": [
    "from dataclasses import dataclass\n",
    "from typing import Optional\n",
    "from collections import defaultdict\n",
    "\n",
    "@dataclass\n",
    "class BackTestColumnValues:\n",
    "  entries : Optional[str]\n",
    "  exits   : Optional[str]\n",
    "  signal  : int\n",
    "\n",
    "LSTM_TRIGGER_MAP = defaultdict(\n",
    "  lambda            : BackTestColumnValues(None             , None            , 0 ), \n",
    "{\n",
    "  \"1 day passed\"    : BackTestColumnValues(None             , \"1 day passed\"  , 0 ),\n",
    "  \"lstm_open-long\"  : BackTestColumnValues(\"lstm_open-long\" , None            , 1 ),\n",
    "  \"lstm_open-short\" : BackTestColumnValues(\"lstm_open-short\", None            , -1),  \n",
    "  \"N/A\"             : BackTestColumnValues(None             , None            , 0 ),\n",
    "  \"stop loss\"       : BackTestColumnValues(None             , \"stop loss\"     , 0 ),\n",
    "  \"take profit\"     : BackTestColumnValues(None             , \"take profile\"  , 0 ),\n",
    "})\n",
    "\n"
   ]
  },
  {
   "attachments": {},
   "cell_type": "markdown",
   "metadata": {},
   "source": [
    "## Define the transformation "
   ]
  },
  {
   "cell_type": "code",
   "execution_count": 8,
   "metadata": {},
   "outputs": [],
   "source": [
    "def _map_lstm_trigger_to_signal(trigger: str) -> Optional[int]:\n",
    "  return LSTM_TRIGGER_MAP[trigger].signal\n",
    "\n",
    "\n",
    "def _map_lstm_trigger_to_entries(trigger: str) -> Optional[str]:\n",
    "  return LSTM_TRIGGER_MAP[trigger].entries\n",
    "\n",
    "\n",
    "def _map_lstm_trigger_to_exits(trigger: str) -> Optional[str]:\n",
    "  return LSTM_TRIGGER_MAP[trigger].exits\n",
    "\n",
    "\n",
    "def _transform_lstm_dfs(lstm_dfs: List):\n",
    "  for lstm_df in lstm_dfs:    \n",
    "    lstm_df.rename(columns={'price': 'Close'}, inplace=True)\n",
    "\n",
    "    lstm_df['trigger']  = lstm_df['trigger'].astype(str)\n",
    "    lstm_df['entries']  = lstm_df['trigger'].apply(_map_lstm_trigger_to_entries)\n",
    "    lstm_df['exits']    = lstm_df['trigger'].apply(_map_lstm_trigger_to_exits)\n",
    "    lstm_df['signal']   = lstm_df['trigger'].apply(_map_lstm_trigger_to_signal)    \n",
    "    lstm_df['time']     = pd.to_datetime(lstm_df['time'], unit='s').dt.strftime('%Y-%m-%dT%H:%M:%S.%fZ')"
   ]
  },
  {
   "attachments": {},
   "cell_type": "markdown",
   "metadata": {},
   "source": [
    "## The starting point of backtesting LSTM CSV files"
   ]
  },
  {
   "cell_type": "code",
   "execution_count": 9,
   "metadata": {},
   "outputs": [],
   "source": [
    "lstm_dfs = _read_lstm_files()\n",
    "_transform_lstm_dfs(lstm_dfs)"
   ]
  },
  {
   "attachments": {},
   "cell_type": "markdown",
   "metadata": {},
   "source": [
    "# Run the backtest on the lstm entries from a single dataframe\n",
    "Based on looking at the stats 1 and 4 had the best results and were fairly similar. I'm going to run this on 1. You can choose to optimize it on any of them."
   ]
  },
  {
   "cell_type": "code",
   "execution_count": 15,
   "metadata": {},
   "outputs": [],
   "source": [
    "test_df = lstm_dfs[1] # <-- Change this to the index of the dataframe 0,1,2,3,4 you want to plot\n",
    "test_df.index = pd.to_datetime(test_df['time']) \n",
    "test_df.rename(columns={'open': 'Open', 'high': 'High', 'low': 'Low', 'close': 'Close'}, inplace=True)\n",
    "test_df.sort_index(inplace=True)"
   ]
  },
  {
   "cell_type": "code",
   "execution_count": 17,
   "metadata": {},
   "outputs": [
    {
     "name": "stdout",
     "output_type": "stream",
     "text": [
      "The first index in the dataframe is 2021-01-09 00:01:00+00:00, the second index is 2023-05-10 22:44:00+00:00\n"
     ]
    }
   ],
   "source": [
    "print(f'The first index in the dataframe is {test_df.index[0]}, the second index is {test_df.index[-1]}')"
   ]
  },
  {
   "cell_type": "code",
   "execution_count": 18,
   "metadata": {},
   "outputs": [
    {
     "name": "stdout",
     "output_type": "stream",
     "text": [
      "Start                     2021-01-09 00:01...\n",
      "End                       2022-05-10 23:59...\n",
      "Duration                    486 days 23:58:00\n",
      "Exposure Time [%]                   95.717824\n",
      "Equity Final [$]                 113415930.01\n",
      "Equity Peak [$]                  114930581.51\n",
      "Return [%]                           13.41593\n",
      "Buy & Hold Return [%]              -23.764112\n",
      "Return (Ann.) [%]                    9.894885\n",
      "Volatility (Ann.) [%]               27.848392\n",
      "Sharpe Ratio                         0.355313\n",
      "Sortino Ratio                        0.576707\n",
      "Calmar Ratio                         0.418321\n",
      "Max. Drawdown [%]                  -23.653836\n",
      "Avg. Drawdown [%]                   -0.969412\n",
      "Max. Drawdown Duration      212 days 12:25:00\n",
      "Avg. Drawdown Duration        3 days 22:34:00\n",
      "# Trades                                  825\n",
      "Win Rate [%]                        27.878788\n",
      "Best Trade [%]                      20.022618\n",
      "Worst Trade [%]                    -77.879826\n",
      "Avg. Trade [%]                     -13.298009\n",
      "Max. Trade Duration          47 days 23:29:00\n",
      "Avg. Trade Duration           8 days 06:12:00\n",
      "Profit Factor                        0.107817\n",
      "Expectancy [%]                     -11.417209\n",
      "SQN                                  0.998394\n",
      "Kelly Criterion                      0.028903\n",
      "_strategy                 LONG_SHORT_Under...\n",
      "_equity_curve                             ...\n",
      "_trades                         Size  Entr...\n",
      "dtype: object\n"
     ]
    },
    {
     "data": {
      "text/html": [
       "<div style=\"display: table;\"><div style=\"display: table-row;\"><div style=\"display: table-cell;\"><b title=\"bokeh.models.plots.GridPlot\">GridPlot</b>(</div><div style=\"display: table-cell;\">id&nbsp;=&nbsp;'p1642', <span id=\"p2268\" style=\"cursor: pointer;\">&hellip;)</span></div></div><div class=\"p2267\" style=\"display: none;\"><div style=\"display: table-cell;\"></div><div style=\"display: table-cell;\">align&nbsp;=&nbsp;'auto',</div></div><div class=\"p2267\" style=\"display: none;\"><div style=\"display: table-cell;\"></div><div style=\"display: table-cell;\">aspect_ratio&nbsp;=&nbsp;None,</div></div><div class=\"p2267\" style=\"display: none;\"><div style=\"display: table-cell;\"></div><div style=\"display: table-cell;\">children&nbsp;=&nbsp;[(figure(id='p1061', ...), 0, 0), (figure(id='p1174', ...), 1, 0), (figure(id='p1002', ...), 2, 0), (figure(id='p1297', ...), 3, 0), (figure(id='p1358', ...), 4, 0), (figure(id='p1418', ...), 5, 0)],</div></div><div class=\"p2267\" style=\"display: none;\"><div style=\"display: table-cell;\"></div><div style=\"display: table-cell;\">cols&nbsp;=&nbsp;None,</div></div><div class=\"p2267\" style=\"display: none;\"><div style=\"display: table-cell;\"></div><div style=\"display: table-cell;\">context_menu&nbsp;=&nbsp;None,</div></div><div class=\"p2267\" style=\"display: none;\"><div style=\"display: table-cell;\"></div><div style=\"display: table-cell;\">css_classes&nbsp;=&nbsp;[],</div></div><div class=\"p2267\" style=\"display: none;\"><div style=\"display: table-cell;\"></div><div style=\"display: table-cell;\">disabled&nbsp;=&nbsp;False,</div></div><div class=\"p2267\" style=\"display: none;\"><div style=\"display: table-cell;\"></div><div style=\"display: table-cell;\">flow_mode&nbsp;=&nbsp;'block',</div></div><div class=\"p2267\" style=\"display: none;\"><div style=\"display: table-cell;\"></div><div style=\"display: table-cell;\">height&nbsp;=&nbsp;None,</div></div><div class=\"p2267\" style=\"display: none;\"><div style=\"display: table-cell;\"></div><div style=\"display: table-cell;\">height_policy&nbsp;=&nbsp;'auto',</div></div><div class=\"p2267\" style=\"display: none;\"><div style=\"display: table-cell;\"></div><div style=\"display: table-cell;\">js_event_callbacks&nbsp;=&nbsp;{},</div></div><div class=\"p2267\" style=\"display: none;\"><div style=\"display: table-cell;\"></div><div style=\"display: table-cell;\">js_property_callbacks&nbsp;=&nbsp;{},</div></div><div class=\"p2267\" style=\"display: none;\"><div style=\"display: table-cell;\"></div><div style=\"display: table-cell;\">margin&nbsp;=&nbsp;None,</div></div><div class=\"p2267\" style=\"display: none;\"><div style=\"display: table-cell;\"></div><div style=\"display: table-cell;\">max_height&nbsp;=&nbsp;None,</div></div><div class=\"p2267\" style=\"display: none;\"><div style=\"display: table-cell;\"></div><div style=\"display: table-cell;\">max_width&nbsp;=&nbsp;None,</div></div><div class=\"p2267\" style=\"display: none;\"><div style=\"display: table-cell;\"></div><div style=\"display: table-cell;\">min_height&nbsp;=&nbsp;None,</div></div><div class=\"p2267\" style=\"display: none;\"><div style=\"display: table-cell;\"></div><div style=\"display: table-cell;\">min_width&nbsp;=&nbsp;None,</div></div><div class=\"p2267\" style=\"display: none;\"><div style=\"display: table-cell;\"></div><div style=\"display: table-cell;\">name&nbsp;=&nbsp;None,</div></div><div class=\"p2267\" style=\"display: none;\"><div style=\"display: table-cell;\"></div><div style=\"display: table-cell;\">resizable&nbsp;=&nbsp;False,</div></div><div class=\"p2267\" style=\"display: none;\"><div style=\"display: table-cell;\"></div><div style=\"display: table-cell;\">rows&nbsp;=&nbsp;None,</div></div><div class=\"p2267\" style=\"display: none;\"><div style=\"display: table-cell;\"></div><div style=\"display: table-cell;\">sizing_mode&nbsp;=&nbsp;'stretch_width',</div></div><div class=\"p2267\" style=\"display: none;\"><div style=\"display: table-cell;\"></div><div style=\"display: table-cell;\">spacing&nbsp;=&nbsp;0,</div></div><div class=\"p2267\" style=\"display: none;\"><div style=\"display: table-cell;\"></div><div style=\"display: table-cell;\">styles&nbsp;=&nbsp;{},</div></div><div class=\"p2267\" style=\"display: none;\"><div style=\"display: table-cell;\"></div><div style=\"display: table-cell;\">stylesheets&nbsp;=&nbsp;[],</div></div><div class=\"p2267\" style=\"display: none;\"><div style=\"display: table-cell;\"></div><div style=\"display: table-cell;\">subscribed_events&nbsp;=&nbsp;PropertyValueSet(),</div></div><div class=\"p2267\" style=\"display: none;\"><div style=\"display: table-cell;\"></div><div style=\"display: table-cell;\">syncable&nbsp;=&nbsp;True,</div></div><div class=\"p2267\" style=\"display: none;\"><div style=\"display: table-cell;\"></div><div style=\"display: table-cell;\">tags&nbsp;=&nbsp;[],</div></div><div class=\"p2267\" style=\"display: none;\"><div style=\"display: table-cell;\"></div><div style=\"display: table-cell;\">toolbar&nbsp;=&nbsp;Toolbar(id='p1641', ...),</div></div><div class=\"p2267\" style=\"display: none;\"><div style=\"display: table-cell;\"></div><div style=\"display: table-cell;\">toolbar_location&nbsp;=&nbsp;'right',</div></div><div class=\"p2267\" style=\"display: none;\"><div style=\"display: table-cell;\"></div><div style=\"display: table-cell;\">visible&nbsp;=&nbsp;True,</div></div><div class=\"p2267\" style=\"display: none;\"><div style=\"display: table-cell;\"></div><div style=\"display: table-cell;\">width&nbsp;=&nbsp;None,</div></div><div class=\"p2267\" style=\"display: none;\"><div style=\"display: table-cell;\"></div><div style=\"display: table-cell;\">width_policy&nbsp;=&nbsp;'auto')</div></div></div>\n",
       "<script>\n",
       "(function() {\n",
       "  let expanded = false;\n",
       "  const ellipsis = document.getElementById(\"p2268\");\n",
       "  ellipsis.addEventListener(\"click\", function() {\n",
       "    const rows = document.getElementsByClassName(\"p2267\");\n",
       "    for (let i = 0; i < rows.length; i++) {\n",
       "      const el = rows[i];\n",
       "      el.style.display = expanded ? \"none\" : \"table-row\";\n",
       "    }\n",
       "    ellipsis.innerHTML = expanded ? \"&hellip;)\" : \"&lsaquo;&lsaquo;&lsaquo;\";\n",
       "    expanded = !expanded;\n",
       "  });\n",
       "})();\n",
       "</script>\n"
      ],
      "text/plain": [
       "GridPlot(id='p1642', ...)"
      ]
     },
     "execution_count": 18,
     "metadata": {},
     "output_type": "execute_result"
    }
   ],
   "source": [
    "start = \"2021-01-09\"  # Note the strategy requires a warmup period for the ATR to calculate first trades begin after 14 days\n",
    "end = \"2022-05-10\"  # It will always close any open trades at the end of the backtest\n",
    "bt = Backtest(\n",
    "    test_df.loc[start:end],\n",
    "    UnderwaterStrategy,\n",
    "    cash=100_000_000,\n",
    "    exclusive_orders=False,\n",
    "    trade_on_close=True,\n",
    "    margin=1,\n",
    ")\n",
    "stats = bt.run()\n",
    "filename = create_filename(stats)\n",
    "print(stats)\n",
    "bt.plot(resample=False, filename=filename)"
   ]
  },
  {
   "attachments": {},
   "cell_type": "markdown",
   "metadata": {},
   "source": [
    "# Optimize the parameters"
   ]
  },
  {
   "cell_type": "code",
   "execution_count": 25,
   "metadata": {},
   "outputs": [
    {
     "data": {
      "application/vnd.jupyter.widget-view+json": {
       "model_id": "52a68156109542afab7af396c3f379b6",
       "version_major": 2,
       "version_minor": 0
      },
      "text/plain": [
       "Backtest.optimize:   0%|          | 0/13 [00:00<?, ?it/s]"
      ]
     },
     "metadata": {},
     "output_type": "display_data"
    },
    {
     "name": "stdout",
     "output_type": "stream",
     "text": [
      "Best Parameters: {'initial_position_size': 0.3, 'percent_invested_threshold': 0.7000000000000002, 'atr_length': 14, 'atr_multiplier': 0.4, 'add_size': 0.1, 'delay_period': 500, 'delta_time': 800, 'upper_bound_profit_target': 0.02, 'lower_bound_loss_threshold': -0.1, 'deleverage_pct': 0.25, 'max_loss_threshold': -0.15}\n"
     ]
    },
    {
     "data": {
      "text/plain": [
       "initial_position_size  percent_invested_threshold  atr_length  atr_multiplier  add_size  delay_period  delta_time  upper_bound_profit_target  lower_bound_loss_threshold  deleverage_pct  max_loss_threshold\n",
       "0.3                    0.7                         14          0.4             0.10      500           800         0.020                      -0.10                       0.25            -0.15                 1.152340\n",
       "0.5                    0.5                         16          0.3             0.05      250           800         0.005                      -0.08                       0.25            -0.15                 0.872284\n",
       "                       0.4                         12          0.4             0.15      250           800         0.005                      -0.08                       0.25            -0.10                 0.817457\n",
       "0.3                    0.7                         18          0.4             0.10      250           700         0.040                      -0.04                       0.25            -0.15                 0.793043\n",
       "0.4                    0.6                         14          0.4             0.15      500           700         0.015                      -0.10                       0.25            -0.15                 0.768642\n",
       "Name: Sortino Ratio, dtype: float64"
      ]
     },
     "execution_count": 25,
     "metadata": {},
     "output_type": "execute_result"
    }
   ],
   "source": [
    "stats, heatmap = bt.optimize(\n",
    "    initial_position_size = np.arange(0.3, 0.6, 0.1).tolist(),\n",
    "    percent_invested_threshold = np.arange(0.3, 0.8, 0.1).tolist(),\n",
    "    atr_length = np.arange(12,20,2).tolist(), # 14 days\n",
    "    atr_multiplier = np.arange(0.3, 0.5, 0.1).tolist(),\n",
    "    add_size = np.arange(0.05,0.20, 0.05).tolist(),\n",
    "    delay_period = np.arange(250,750,250).tolist(),\n",
    "    delta_time = np.arange(500,1000,100).tolist(),\n",
    "    upper_bound_profit_target = np.arange(0.005, 0.04, 0.005).tolist(),\n",
    "    lower_bound_loss_threshold = np.arange(-0.10, 0.00, 0.02).tolist(),\n",
    "    # take_profit_loss_reduction = np.arange(-0.15, -0.05, 0.05).tolist(), # This is the amount that the take profit is reduced by if the position is highly leveraged and we wish to trim\n",
    "    deleverage_pct = np.arange(0.25, 0.75, 0.25).tolist(), # This is the amount that the position is reduced by if the position is highly leveraged and we wish to trim\n",
    "    max_loss_threshold = np.arange(-0.15, -0.05, 0.05).tolist(),\n",
    "    # max_hold_length = np.arange(60*8, 60*48, 60*4).tolist(), # 8 hours to 48 hours\n",
    "    # maximize='Equity Final [$]', \n",
    "    # maximize='Max. Drawdown [%]',# this can be any of the column names from the stats table the output of the backtest\n",
    "    # maximize='Win Rate [%]',\n",
    "    maximize = 'Sortino Ratio',\n",
    "    max_tries=200,\n",
    "    random_state=0,\n",
    "    \n",
    "    return_heatmap=True)\n",
    "best_params = stats._strategy.__dict__[\"_params\"] # This will print out all the parameters used for the best backtest\n",
    "print(f'Best Parameters: {best_params}')\n",
    "heatmap.sort_values(ascending=False).iloc[:5] # print the top 5 parameter sets"
   ]
  },
  {
   "cell_type": "code",
   "execution_count": 26,
   "metadata": {},
   "outputs": [
    {
     "data": {
      "text/plain": [
       "Start                     2021-01-09 00:01...\n",
       "End                       2023-05-10 22:44...\n",
       "Duration                    851 days 22:43:00\n",
       "Exposure Time [%]                   84.593056\n",
       "Equity Final [$]                 143810876.65\n",
       "Equity Peak [$]                  179890794.05\n",
       "Return [%]                          43.810877\n",
       "Buy & Hold Return [%]              -32.222499\n",
       "Return (Ann.) [%]                   16.841889\n",
       "Volatility (Ann.) [%]               26.568483\n",
       "Sharpe Ratio                         0.633905\n",
       "Sortino Ratio                         1.15234\n",
       "Calmar Ratio                         0.765313\n",
       "Max. Drawdown [%]                  -22.006543\n",
       "Avg. Drawdown [%]                   -0.484056\n",
       "Max. Drawdown Duration      181 days 23:37:00\n",
       "Avg. Drawdown Duration        1 days 04:33:00\n",
       "# Trades                                 2435\n",
       "Win Rate [%]                        57.782341\n",
       "Best Trade [%]                      15.084097\n",
       "Worst Trade [%]                    -17.398172\n",
       "Avg. Trade [%]                      -0.140304\n",
       "Max. Trade Duration           1 days 01:23:00\n",
       "Avg. Trade Duration           0 days 08:52:00\n",
       "Profit Factor                        0.903897\n",
       "Expectancy [%]                      -0.098355\n",
       "SQN                                  1.111323\n",
       "Kelly Criterion                      0.036575\n",
       "_strategy                 LONG_SHORT_Under...\n",
       "_equity_curve                             ...\n",
       "_trades                           Size  En...\n",
       "dtype: object"
      ]
     },
     "execution_count": 26,
     "metadata": {},
     "output_type": "execute_result"
    }
   ],
   "source": [
    "stats"
   ]
  },
  {
   "cell_type": "code",
   "execution_count": 27,
   "metadata": {},
   "outputs": [
    {
     "data": {
      "text/html": [
       "<div style=\"display: table;\"><div style=\"display: table-row;\"><div style=\"display: table-cell;\"><b title=\"bokeh.models.plots.GridPlot\">GridPlot</b>(</div><div style=\"display: table-cell;\">id&nbsp;=&nbsp;'p7284', <span id=\"p11248\" style=\"cursor: pointer;\">&hellip;)</span></div></div><div class=\"p11247\" style=\"display: none;\"><div style=\"display: table-cell;\"></div><div style=\"display: table-cell;\">align&nbsp;=&nbsp;'auto',</div></div><div class=\"p11247\" style=\"display: none;\"><div style=\"display: table-cell;\"></div><div style=\"display: table-cell;\">aspect_ratio&nbsp;=&nbsp;None,</div></div><div class=\"p11247\" style=\"display: none;\"><div style=\"display: table-cell;\"></div><div style=\"display: table-cell;\">children&nbsp;=&nbsp;[(figure(id='p3540', ...), 0, 0), (figure(id='p3592', ...), 0, 1), (figure(id='p3644', ...), 0, 2), (figure(id='p3696', ...), 1, 0), (figure(id='p3748', ...), 1, 1), (figure(id='p3800', ...), 1, 2), (figure(id='p3852', ...), 2, 0), (figure(id='p3904', ...), 2, 1), (figure(id='p3956', ...), 2, 2), (figure(id='p4008', ...), 3, 0), (figure(id='p4060', ...), 3, 1), (figure(id='p4112', ...), 3, 2), (figure(id='p4164', ...), 4, 0), (figure(id='p4216', ...), 4, 1), (figure(id='p4268', ...), 4, 2), (figure(id='p4320', ...), 5, 0), (figure(id='p4372', ...), 5, 1), (figure(id='p4424', ...), 5, 2), (figure(id='p4476', ...), 6, 0), (figure(id='p4528', ...), 6, 1), (figure(id='p4580', ...), 6, 2), (figure(id='p4632', ...), 7, 0), (figure(id='p4684', ...), 7, 1), (figure(id='p4736', ...), 7, 2), (figure(id='p4788', ...), 8, 0), (figure(id='p4840', ...), 8, 1), (figure(id='p4892', ...), 8, 2), (figure(id='p4944', ...), 9, 0), (figure(id='p4996', ...), 9, 1), (figure(id='p5048', ...), 9, 2), (figure(id='p5100', ...), 10, 0), (figure(id='p5152', ...), 10, 1), (figure(id='p5204', ...), 10, 2), (figure(id='p5256', ...), 11, 0), (figure(id='p5308', ...), 11, 1), (figure(id='p5360', ...), 11, 2), (figure(id='p5412', ...), 12, 0), (figure(id='p5464', ...), 12, 1), (figure(id='p5516', ...), 12, 2), (figure(id='p5568', ...), 13, 0), (figure(id='p5620', ...), 13, 1), (figure(id='p5672', ...), 13, 2), (figure(id='p5724', ...), 14, 0), (figure(id='p5776', ...), 14, 1), (figure(id='p5828', ...), 14, 2), (figure(id='p5880', ...), 15, 0), (figure(id='p5932', ...), 15, 1), (figure(id='p5984', ...), 15, 2), (figure(id='p6036', ...), 16, 0), (figure(id='p6088', ...), 16, 1), (figure(id='p6140', ...), 16, 2), (figure(id='p6192', ...), 17, 0), (figure(id='p6244', ...), 17, 1), (figure(id='p6296', ...), 17, 2), (figure(id='p6348', ...), 18, 0)],</div></div><div class=\"p11247\" style=\"display: none;\"><div style=\"display: table-cell;\"></div><div style=\"display: table-cell;\">cols&nbsp;=&nbsp;None,</div></div><div class=\"p11247\" style=\"display: none;\"><div style=\"display: table-cell;\"></div><div style=\"display: table-cell;\">context_menu&nbsp;=&nbsp;None,</div></div><div class=\"p11247\" style=\"display: none;\"><div style=\"display: table-cell;\"></div><div style=\"display: table-cell;\">css_classes&nbsp;=&nbsp;[],</div></div><div class=\"p11247\" style=\"display: none;\"><div style=\"display: table-cell;\"></div><div style=\"display: table-cell;\">disabled&nbsp;=&nbsp;False,</div></div><div class=\"p11247\" style=\"display: none;\"><div style=\"display: table-cell;\"></div><div style=\"display: table-cell;\">flow_mode&nbsp;=&nbsp;'block',</div></div><div class=\"p11247\" style=\"display: none;\"><div style=\"display: table-cell;\"></div><div style=\"display: table-cell;\">height&nbsp;=&nbsp;None,</div></div><div class=\"p11247\" style=\"display: none;\"><div style=\"display: table-cell;\"></div><div style=\"display: table-cell;\">height_policy&nbsp;=&nbsp;'auto',</div></div><div class=\"p11247\" style=\"display: none;\"><div style=\"display: table-cell;\"></div><div style=\"display: table-cell;\">js_event_callbacks&nbsp;=&nbsp;{},</div></div><div class=\"p11247\" style=\"display: none;\"><div style=\"display: table-cell;\"></div><div style=\"display: table-cell;\">js_property_callbacks&nbsp;=&nbsp;{},</div></div><div class=\"p11247\" style=\"display: none;\"><div style=\"display: table-cell;\"></div><div style=\"display: table-cell;\">margin&nbsp;=&nbsp;None,</div></div><div class=\"p11247\" style=\"display: none;\"><div style=\"display: table-cell;\"></div><div style=\"display: table-cell;\">max_height&nbsp;=&nbsp;None,</div></div><div class=\"p11247\" style=\"display: none;\"><div style=\"display: table-cell;\"></div><div style=\"display: table-cell;\">max_width&nbsp;=&nbsp;None,</div></div><div class=\"p11247\" style=\"display: none;\"><div style=\"display: table-cell;\"></div><div style=\"display: table-cell;\">min_height&nbsp;=&nbsp;None,</div></div><div class=\"p11247\" style=\"display: none;\"><div style=\"display: table-cell;\"></div><div style=\"display: table-cell;\">min_width&nbsp;=&nbsp;None,</div></div><div class=\"p11247\" style=\"display: none;\"><div style=\"display: table-cell;\"></div><div style=\"display: table-cell;\">name&nbsp;=&nbsp;None,</div></div><div class=\"p11247\" style=\"display: none;\"><div style=\"display: table-cell;\"></div><div style=\"display: table-cell;\">resizable&nbsp;=&nbsp;False,</div></div><div class=\"p11247\" style=\"display: none;\"><div style=\"display: table-cell;\"></div><div style=\"display: table-cell;\">rows&nbsp;=&nbsp;None,</div></div><div class=\"p11247\" style=\"display: none;\"><div style=\"display: table-cell;\"></div><div style=\"display: table-cell;\">sizing_mode&nbsp;=&nbsp;None,</div></div><div class=\"p11247\" style=\"display: none;\"><div style=\"display: table-cell;\"></div><div style=\"display: table-cell;\">spacing&nbsp;=&nbsp;0,</div></div><div class=\"p11247\" style=\"display: none;\"><div style=\"display: table-cell;\"></div><div style=\"display: table-cell;\">styles&nbsp;=&nbsp;{},</div></div><div class=\"p11247\" style=\"display: none;\"><div style=\"display: table-cell;\"></div><div style=\"display: table-cell;\">stylesheets&nbsp;=&nbsp;[],</div></div><div class=\"p11247\" style=\"display: none;\"><div style=\"display: table-cell;\"></div><div style=\"display: table-cell;\">subscribed_events&nbsp;=&nbsp;PropertyValueSet(),</div></div><div class=\"p11247\" style=\"display: none;\"><div style=\"display: table-cell;\"></div><div style=\"display: table-cell;\">syncable&nbsp;=&nbsp;True,</div></div><div class=\"p11247\" style=\"display: none;\"><div style=\"display: table-cell;\"></div><div style=\"display: table-cell;\">tags&nbsp;=&nbsp;[],</div></div><div class=\"p11247\" style=\"display: none;\"><div style=\"display: table-cell;\"></div><div style=\"display: table-cell;\">toolbar&nbsp;=&nbsp;Toolbar(id='p7283', ...),</div></div><div class=\"p11247\" style=\"display: none;\"><div style=\"display: table-cell;\"></div><div style=\"display: table-cell;\">toolbar_location&nbsp;=&nbsp;'above',</div></div><div class=\"p11247\" style=\"display: none;\"><div style=\"display: table-cell;\"></div><div style=\"display: table-cell;\">visible&nbsp;=&nbsp;True,</div></div><div class=\"p11247\" style=\"display: none;\"><div style=\"display: table-cell;\"></div><div style=\"display: table-cell;\">width&nbsp;=&nbsp;None,</div></div><div class=\"p11247\" style=\"display: none;\"><div style=\"display: table-cell;\"></div><div style=\"display: table-cell;\">width_policy&nbsp;=&nbsp;'auto')</div></div></div>\n",
       "<script>\n",
       "(function() {\n",
       "  let expanded = false;\n",
       "  const ellipsis = document.getElementById(\"p11248\");\n",
       "  ellipsis.addEventListener(\"click\", function() {\n",
       "    const rows = document.getElementsByClassName(\"p11247\");\n",
       "    for (let i = 0; i < rows.length; i++) {\n",
       "      const el = rows[i];\n",
       "      el.style.display = expanded ? \"none\" : \"table-row\";\n",
       "    }\n",
       "    ellipsis.innerHTML = expanded ? \"&hellip;)\" : \"&lsaquo;&lsaquo;&lsaquo;\";\n",
       "    expanded = !expanded;\n",
       "  });\n",
       "})();\n",
       "</script>\n"
      ],
      "text/plain": [
       "GridPlot(id='p7284', ...)"
      ]
     },
     "execution_count": 27,
     "metadata": {},
     "output_type": "execute_result"
    }
   ],
   "source": [
    "# Plot the heatmaps\n",
    "plot_heatmaps(heatmap, agg='mean')\n"
   ]
  },
  {
   "attachments": {},
   "cell_type": "markdown",
   "metadata": {},
   "source": [
    "Run the best strategy"
   ]
  },
  {
   "cell_type": "code",
   "execution_count": 28,
   "metadata": {},
   "outputs": [
    {
     "data": {
      "text/html": [
       "<div style=\"display: table;\"><div style=\"display: table-row;\"><div style=\"display: table-cell;\"><b title=\"bokeh.models.plots.GridPlot\">GridPlot</b>(</div><div style=\"display: table-cell;\">id&nbsp;=&nbsp;'p11891', <span id=\"p12518\" style=\"cursor: pointer;\">&hellip;)</span></div></div><div class=\"p12517\" style=\"display: none;\"><div style=\"display: table-cell;\"></div><div style=\"display: table-cell;\">align&nbsp;=&nbsp;'auto',</div></div><div class=\"p12517\" style=\"display: none;\"><div style=\"display: table-cell;\"></div><div style=\"display: table-cell;\">aspect_ratio&nbsp;=&nbsp;None,</div></div><div class=\"p12517\" style=\"display: none;\"><div style=\"display: table-cell;\"></div><div style=\"display: table-cell;\">children&nbsp;=&nbsp;[(figure(id='p11309', ...), 0, 0), (figure(id='p11422', ...), 1, 0), (figure(id='p11250', ...), 2, 0), (figure(id='p11545', ...), 3, 0), (figure(id='p11606', ...), 4, 0), (figure(id='p11667', ...), 5, 0)],</div></div><div class=\"p12517\" style=\"display: none;\"><div style=\"display: table-cell;\"></div><div style=\"display: table-cell;\">cols&nbsp;=&nbsp;None,</div></div><div class=\"p12517\" style=\"display: none;\"><div style=\"display: table-cell;\"></div><div style=\"display: table-cell;\">context_menu&nbsp;=&nbsp;None,</div></div><div class=\"p12517\" style=\"display: none;\"><div style=\"display: table-cell;\"></div><div style=\"display: table-cell;\">css_classes&nbsp;=&nbsp;[],</div></div><div class=\"p12517\" style=\"display: none;\"><div style=\"display: table-cell;\"></div><div style=\"display: table-cell;\">disabled&nbsp;=&nbsp;False,</div></div><div class=\"p12517\" style=\"display: none;\"><div style=\"display: table-cell;\"></div><div style=\"display: table-cell;\">flow_mode&nbsp;=&nbsp;'block',</div></div><div class=\"p12517\" style=\"display: none;\"><div style=\"display: table-cell;\"></div><div style=\"display: table-cell;\">height&nbsp;=&nbsp;None,</div></div><div class=\"p12517\" style=\"display: none;\"><div style=\"display: table-cell;\"></div><div style=\"display: table-cell;\">height_policy&nbsp;=&nbsp;'auto',</div></div><div class=\"p12517\" style=\"display: none;\"><div style=\"display: table-cell;\"></div><div style=\"display: table-cell;\">js_event_callbacks&nbsp;=&nbsp;{},</div></div><div class=\"p12517\" style=\"display: none;\"><div style=\"display: table-cell;\"></div><div style=\"display: table-cell;\">js_property_callbacks&nbsp;=&nbsp;{},</div></div><div class=\"p12517\" style=\"display: none;\"><div style=\"display: table-cell;\"></div><div style=\"display: table-cell;\">margin&nbsp;=&nbsp;None,</div></div><div class=\"p12517\" style=\"display: none;\"><div style=\"display: table-cell;\"></div><div style=\"display: table-cell;\">max_height&nbsp;=&nbsp;None,</div></div><div class=\"p12517\" style=\"display: none;\"><div style=\"display: table-cell;\"></div><div style=\"display: table-cell;\">max_width&nbsp;=&nbsp;None,</div></div><div class=\"p12517\" style=\"display: none;\"><div style=\"display: table-cell;\"></div><div style=\"display: table-cell;\">min_height&nbsp;=&nbsp;None,</div></div><div class=\"p12517\" style=\"display: none;\"><div style=\"display: table-cell;\"></div><div style=\"display: table-cell;\">min_width&nbsp;=&nbsp;None,</div></div><div class=\"p12517\" style=\"display: none;\"><div style=\"display: table-cell;\"></div><div style=\"display: table-cell;\">name&nbsp;=&nbsp;None,</div></div><div class=\"p12517\" style=\"display: none;\"><div style=\"display: table-cell;\"></div><div style=\"display: table-cell;\">resizable&nbsp;=&nbsp;False,</div></div><div class=\"p12517\" style=\"display: none;\"><div style=\"display: table-cell;\"></div><div style=\"display: table-cell;\">rows&nbsp;=&nbsp;None,</div></div><div class=\"p12517\" style=\"display: none;\"><div style=\"display: table-cell;\"></div><div style=\"display: table-cell;\">sizing_mode&nbsp;=&nbsp;'stretch_width',</div></div><div class=\"p12517\" style=\"display: none;\"><div style=\"display: table-cell;\"></div><div style=\"display: table-cell;\">spacing&nbsp;=&nbsp;0,</div></div><div class=\"p12517\" style=\"display: none;\"><div style=\"display: table-cell;\"></div><div style=\"display: table-cell;\">styles&nbsp;=&nbsp;{},</div></div><div class=\"p12517\" style=\"display: none;\"><div style=\"display: table-cell;\"></div><div style=\"display: table-cell;\">stylesheets&nbsp;=&nbsp;[],</div></div><div class=\"p12517\" style=\"display: none;\"><div style=\"display: table-cell;\"></div><div style=\"display: table-cell;\">subscribed_events&nbsp;=&nbsp;PropertyValueSet(),</div></div><div class=\"p12517\" style=\"display: none;\"><div style=\"display: table-cell;\"></div><div style=\"display: table-cell;\">syncable&nbsp;=&nbsp;True,</div></div><div class=\"p12517\" style=\"display: none;\"><div style=\"display: table-cell;\"></div><div style=\"display: table-cell;\">tags&nbsp;=&nbsp;[],</div></div><div class=\"p12517\" style=\"display: none;\"><div style=\"display: table-cell;\"></div><div style=\"display: table-cell;\">toolbar&nbsp;=&nbsp;Toolbar(id='p11890', ...),</div></div><div class=\"p12517\" style=\"display: none;\"><div style=\"display: table-cell;\"></div><div style=\"display: table-cell;\">toolbar_location&nbsp;=&nbsp;'right',</div></div><div class=\"p12517\" style=\"display: none;\"><div style=\"display: table-cell;\"></div><div style=\"display: table-cell;\">visible&nbsp;=&nbsp;True,</div></div><div class=\"p12517\" style=\"display: none;\"><div style=\"display: table-cell;\"></div><div style=\"display: table-cell;\">width&nbsp;=&nbsp;None,</div></div><div class=\"p12517\" style=\"display: none;\"><div style=\"display: table-cell;\"></div><div style=\"display: table-cell;\">width_policy&nbsp;=&nbsp;'auto')</div></div></div>\n",
       "<script>\n",
       "(function() {\n",
       "  let expanded = false;\n",
       "  const ellipsis = document.getElementById(\"p12518\");\n",
       "  ellipsis.addEventListener(\"click\", function() {\n",
       "    const rows = document.getElementsByClassName(\"p12517\");\n",
       "    for (let i = 0; i < rows.length; i++) {\n",
       "      const el = rows[i];\n",
       "      el.style.display = expanded ? \"none\" : \"table-row\";\n",
       "    }\n",
       "    ellipsis.innerHTML = expanded ? \"&hellip;)\" : \"&lsaquo;&lsaquo;&lsaquo;\";\n",
       "    expanded = !expanded;\n",
       "  });\n",
       "})();\n",
       "</script>\n"
      ],
      "text/plain": [
       "GridPlot(id='p11891', ...)"
      ]
     },
     "execution_count": 28,
     "metadata": {},
     "output_type": "execute_result"
    }
   ],
   "source": [
    "bt.run(**best_params)\n",
    "bt.plot(resample='2h', filename=f'{filename}_optimized.html')"
   ]
  },
  {
   "attachments": {},
   "cell_type": "markdown",
   "metadata": {},
   "source": [
    "The best parameters. NOTE if you find some good ones place them in the `best_params.py` file"
   ]
  },
  {
   "cell_type": "code",
   "execution_count": 29,
   "metadata": {},
   "outputs": [
    {
     "data": {
      "text/plain": [
       "{'initial_position_size': 0.3,\n",
       " 'percent_invested_threshold': 0.7000000000000002,\n",
       " 'atr_length': 14,\n",
       " 'atr_multiplier': 0.4,\n",
       " 'add_size': 0.1,\n",
       " 'delay_period': 500,\n",
       " 'delta_time': 800,\n",
       " 'upper_bound_profit_target': 0.02,\n",
       " 'lower_bound_loss_threshold': -0.1,\n",
       " 'deleverage_pct': 0.25,\n",
       " 'max_loss_threshold': -0.15}"
      ]
     },
     "execution_count": 29,
     "metadata": {},
     "output_type": "execute_result"
    }
   ],
   "source": [
    "best_params"
   ]
  },
  {
   "attachments": {},
   "cell_type": "markdown",
   "metadata": {},
   "source": [
    "Run the full backtest on the entire period but use the params that were optimized on 2021 data"
   ]
  },
  {
   "cell_type": "code",
   "execution_count": 32,
   "metadata": {},
   "outputs": [
    {
     "name": "stdout",
     "output_type": "stream",
     "text": [
      "Start                     2021-01-09 00:01...\n",
      "End                       2023-05-10 22:44...\n",
      "Duration                    851 days 22:43:00\n",
      "Exposure Time [%]                   84.611152\n",
      "Equity Final [$]                   1147357.54\n",
      "Equity Peak [$]                   101523447.4\n",
      "Return [%]                         -98.852642\n",
      "Buy & Hold Return [%]              -32.222499\n",
      "Return (Ann.) [%]                  -85.250827\n",
      "Volatility (Ann.) [%]              222.529001\n",
      "Sharpe Ratio                          -0.3831\n",
      "Sortino Ratio                        -0.55802\n",
      "Calmar Ratio                        -0.860171\n",
      "Max. Drawdown [%]                  -99.109167\n",
      "Avg. Drawdown [%]                  -20.237501\n",
      "Max. Drawdown Duration      833 days 21:05:00\n",
      "Avg. Drawdown Duration      166 days 18:41:00\n",
      "# Trades                                 2446\n",
      "Win Rate [%]                        56.950123\n",
      "Best Trade [%]                      26.195105\n",
      "Worst Trade [%]                    -25.935411\n",
      "Avg. Trade [%]                      -0.268181\n",
      "Max. Trade Duration           1 days 01:27:00\n",
      "Avg. Trade Duration           0 days 08:55:00\n",
      "Profit Factor                        0.808287\n",
      "Expectancy [%]                      -0.217164\n",
      "SQN                                 -1.807405\n",
      "Kelly Criterion                     -0.101213\n",
      "_strategy                 LONG_SHORT_Under...\n",
      "_equity_curve                             ...\n",
      "_trades                           Size  En...\n",
      "dtype: object\n"
     ]
    },
    {
     "data": {
      "text/html": [
       "<div style=\"display: table;\"><div style=\"display: table-row;\"><div style=\"display: table-cell;\"><b title=\"bokeh.models.plots.GridPlot\">GridPlot</b>(</div><div style=\"display: table-cell;\">id&nbsp;=&nbsp;'p15701', <span id=\"p16328\" style=\"cursor: pointer;\">&hellip;)</span></div></div><div class=\"p16327\" style=\"display: none;\"><div style=\"display: table-cell;\"></div><div style=\"display: table-cell;\">align&nbsp;=&nbsp;'auto',</div></div><div class=\"p16327\" style=\"display: none;\"><div style=\"display: table-cell;\"></div><div style=\"display: table-cell;\">aspect_ratio&nbsp;=&nbsp;None,</div></div><div class=\"p16327\" style=\"display: none;\"><div style=\"display: table-cell;\"></div><div style=\"display: table-cell;\">children&nbsp;=&nbsp;[(figure(id='p15119', ...), 0, 0), (figure(id='p15232', ...), 1, 0), (figure(id='p15060', ...), 2, 0), (figure(id='p15355', ...), 3, 0), (figure(id='p15416', ...), 4, 0), (figure(id='p15477', ...), 5, 0)],</div></div><div class=\"p16327\" style=\"display: none;\"><div style=\"display: table-cell;\"></div><div style=\"display: table-cell;\">cols&nbsp;=&nbsp;None,</div></div><div class=\"p16327\" style=\"display: none;\"><div style=\"display: table-cell;\"></div><div style=\"display: table-cell;\">context_menu&nbsp;=&nbsp;None,</div></div><div class=\"p16327\" style=\"display: none;\"><div style=\"display: table-cell;\"></div><div style=\"display: table-cell;\">css_classes&nbsp;=&nbsp;[],</div></div><div class=\"p16327\" style=\"display: none;\"><div style=\"display: table-cell;\"></div><div style=\"display: table-cell;\">disabled&nbsp;=&nbsp;False,</div></div><div class=\"p16327\" style=\"display: none;\"><div style=\"display: table-cell;\"></div><div style=\"display: table-cell;\">flow_mode&nbsp;=&nbsp;'block',</div></div><div class=\"p16327\" style=\"display: none;\"><div style=\"display: table-cell;\"></div><div style=\"display: table-cell;\">height&nbsp;=&nbsp;None,</div></div><div class=\"p16327\" style=\"display: none;\"><div style=\"display: table-cell;\"></div><div style=\"display: table-cell;\">height_policy&nbsp;=&nbsp;'auto',</div></div><div class=\"p16327\" style=\"display: none;\"><div style=\"display: table-cell;\"></div><div style=\"display: table-cell;\">js_event_callbacks&nbsp;=&nbsp;{},</div></div><div class=\"p16327\" style=\"display: none;\"><div style=\"display: table-cell;\"></div><div style=\"display: table-cell;\">js_property_callbacks&nbsp;=&nbsp;{},</div></div><div class=\"p16327\" style=\"display: none;\"><div style=\"display: table-cell;\"></div><div style=\"display: table-cell;\">margin&nbsp;=&nbsp;None,</div></div><div class=\"p16327\" style=\"display: none;\"><div style=\"display: table-cell;\"></div><div style=\"display: table-cell;\">max_height&nbsp;=&nbsp;None,</div></div><div class=\"p16327\" style=\"display: none;\"><div style=\"display: table-cell;\"></div><div style=\"display: table-cell;\">max_width&nbsp;=&nbsp;None,</div></div><div class=\"p16327\" style=\"display: none;\"><div style=\"display: table-cell;\"></div><div style=\"display: table-cell;\">min_height&nbsp;=&nbsp;None,</div></div><div class=\"p16327\" style=\"display: none;\"><div style=\"display: table-cell;\"></div><div style=\"display: table-cell;\">min_width&nbsp;=&nbsp;None,</div></div><div class=\"p16327\" style=\"display: none;\"><div style=\"display: table-cell;\"></div><div style=\"display: table-cell;\">name&nbsp;=&nbsp;None,</div></div><div class=\"p16327\" style=\"display: none;\"><div style=\"display: table-cell;\"></div><div style=\"display: table-cell;\">resizable&nbsp;=&nbsp;False,</div></div><div class=\"p16327\" style=\"display: none;\"><div style=\"display: table-cell;\"></div><div style=\"display: table-cell;\">rows&nbsp;=&nbsp;None,</div></div><div class=\"p16327\" style=\"display: none;\"><div style=\"display: table-cell;\"></div><div style=\"display: table-cell;\">sizing_mode&nbsp;=&nbsp;'stretch_width',</div></div><div class=\"p16327\" style=\"display: none;\"><div style=\"display: table-cell;\"></div><div style=\"display: table-cell;\">spacing&nbsp;=&nbsp;0,</div></div><div class=\"p16327\" style=\"display: none;\"><div style=\"display: table-cell;\"></div><div style=\"display: table-cell;\">styles&nbsp;=&nbsp;{},</div></div><div class=\"p16327\" style=\"display: none;\"><div style=\"display: table-cell;\"></div><div style=\"display: table-cell;\">stylesheets&nbsp;=&nbsp;[],</div></div><div class=\"p16327\" style=\"display: none;\"><div style=\"display: table-cell;\"></div><div style=\"display: table-cell;\">subscribed_events&nbsp;=&nbsp;PropertyValueSet(),</div></div><div class=\"p16327\" style=\"display: none;\"><div style=\"display: table-cell;\"></div><div style=\"display: table-cell;\">syncable&nbsp;=&nbsp;True,</div></div><div class=\"p16327\" style=\"display: none;\"><div style=\"display: table-cell;\"></div><div style=\"display: table-cell;\">tags&nbsp;=&nbsp;[],</div></div><div class=\"p16327\" style=\"display: none;\"><div style=\"display: table-cell;\"></div><div style=\"display: table-cell;\">toolbar&nbsp;=&nbsp;Toolbar(id='p15700', ...),</div></div><div class=\"p16327\" style=\"display: none;\"><div style=\"display: table-cell;\"></div><div style=\"display: table-cell;\">toolbar_location&nbsp;=&nbsp;'right',</div></div><div class=\"p16327\" style=\"display: none;\"><div style=\"display: table-cell;\"></div><div style=\"display: table-cell;\">visible&nbsp;=&nbsp;True,</div></div><div class=\"p16327\" style=\"display: none;\"><div style=\"display: table-cell;\"></div><div style=\"display: table-cell;\">width&nbsp;=&nbsp;None,</div></div><div class=\"p16327\" style=\"display: none;\"><div style=\"display: table-cell;\"></div><div style=\"display: table-cell;\">width_policy&nbsp;=&nbsp;'auto')</div></div></div>\n",
       "<script>\n",
       "(function() {\n",
       "  let expanded = false;\n",
       "  const ellipsis = document.getElementById(\"p16328\");\n",
       "  ellipsis.addEventListener(\"click\", function() {\n",
       "    const rows = document.getElementsByClassName(\"p16327\");\n",
       "    for (let i = 0; i < rows.length; i++) {\n",
       "      const el = rows[i];\n",
       "      el.style.display = expanded ? \"none\" : \"table-row\";\n",
       "    }\n",
       "    ellipsis.innerHTML = expanded ? \"&hellip;)\" : \"&lsaquo;&lsaquo;&lsaquo;\";\n",
       "    expanded = !expanded;\n",
       "  });\n",
       "})();\n",
       "</script>\n"
      ],
      "text/plain": [
       "GridPlot(id='p15701', ...)"
      ]
     },
     "execution_count": 32,
     "metadata": {},
     "output_type": "execute_result"
    }
   ],
   "source": [
    "# run it on the full period\n",
    "start = \"2021-01-09\"  # Note the strategy requires a warmup period for the ATR to calculate first trades begin after 14 days\n",
    "end = \"2023-05-10\"  # It will always close any open trades at the end of the backtest\n",
    "bt = Backtest(\n",
    "    test_df, #.loc[start:end],\n",
    "    UnderwaterStrategy,\n",
    "    cash=100_000_000,\n",
    "    exclusive_orders=False,\n",
    "    trade_on_close=True,\n",
    "    margin=1, # 0.5=2x leverage 1 = 1x leverage, .1 = 10x leverage\n",
    ")\n",
    "stats = bt.run(**best_params) # Here we are using the best parameters from the optimization\n",
    "filename = create_filename(stats)\n",
    "print(stats)\n",
    "bt.plot(resample='2h', filename=filename) # Note we are resampling to 2hours feel free to set it to FALSE to see how it really trades"
   ]
  },
  {
   "attachments": {},
   "cell_type": "markdown",
   "metadata": {},
   "source": [
    "You can also run the strategy with a `LONG_ONLY` or `SHORT_ONLY` mode. "
   ]
  },
  {
   "cell_type": "code",
   "execution_count": null,
   "metadata": {},
   "outputs": [],
   "source": [
    "UnderwaterStrategy.trade_type = 'LONG_ONLY'\n",
    "# run it on the full period\n",
    "start = \"2021-01-09\"  # Note the strategy requires a warmup period for the ATR to calculate first trades begin after 14 days\n",
    "end = \"2023-05-10\"  # It will always close any open trades at the end of the backtest\n",
    "bt = Backtest(\n",
    "    test_df, #.loc[start:end],\n",
    "    UnderwaterStrategy,\n",
    "    cash=100_000_000,\n",
    "    exclusive_orders=False,\n",
    "    trade_on_close=True,\n",
    "    margin=1, # 0.5=2x leverage 1 = 1x leverage, .1 = 10x leverage\n",
    ")\n",
    "stats = bt.run(**best_params) # Here we are using the best parameters from the optimization\n",
    "filename = create_filename(stats)\n",
    "print(stats)\n",
    "bt.plot(resample='2h', filename=filename) # Note we are resampling to 2hours feel free to set it to FALSE to see how it really trades"
   ]
  },
  {
   "attachments": {},
   "cell_type": "markdown",
   "metadata": {},
   "source": [
    "#### Go up a few cells and try optimizing the backtest as a long only or short only"
   ]
  },
  {
   "attachments": {},
   "cell_type": "markdown",
   "metadata": {},
   "source": [
    "# Test on different periods of time Possibly set up a cross validation\n",
    "Nice youtube video here https://www.youtube.com/watch?v=9m987swadQU&t=2154s&ab_channel=ChadThackray"
   ]
  },
  {
   "cell_type": "code",
   "execution_count": null,
   "metadata": {},
   "outputs": [],
   "source": []
  }
 ],
 "metadata": {
  "kernelspec": {
   "display_name": "datascience",
   "language": "python",
   "name": "python3"
  },
  "language_info": {
   "codemirror_mode": {
    "name": "ipython",
    "version": 3
   },
   "file_extension": ".py",
   "mimetype": "text/x-python",
   "name": "python",
   "nbconvert_exporter": "python",
   "pygments_lexer": "ipython3",
   "version": "3.10.10"
  },
  "orig_nbformat": 4
 },
 "nbformat": 4,
 "nbformat_minor": 2
}
